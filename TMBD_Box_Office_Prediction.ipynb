{
 "cells": [
  {
   "cell_type": "markdown",
   "id": "927d97c9",
   "metadata": {},
   "source": [
    "# TMDB Box Office Prediction\n",
    "\n",
    "In this project , we will use the **TMDB Box Office Prediction** dataset which we obtained from **kaggle.com**.(link : https://www.kaggle.com/c/tmdb-box-office-prediction/overview)\n",
    "\n",
    "The dataset has **23 columns** and **3000 rows**. \n",
    "\n",
    "We will do **Exploratory Data Analysis** to fetch out **important information** from the dataset.\n",
    "\n",
    "We will also make some **new features** to **replace** the **existing ones**\n",
    "\n",
    "Along with this, we will also use **WEB SCRAPING** to deal with the **NULL VALUES** of certain columns.\n",
    "\n",
    "Our **objective** in this project is to make a **regression model** which will predict the **revenue** of the movies in this dataset.\n",
    "\n",
    "We will be using the **Random Forest Regressor** as the **regression model**. We will also do **Randomized Search CV** and **Grid Search CV** to find the best set of **hyperparameters** for the **Random Forest** model.\n",
    "\n",
    "For **evaluation**, we will use the **Root Mean Squared Logarithmic Error (RMSLE)**."
   ]
  },
  {
   "cell_type": "markdown",
   "id": "622a57cb",
   "metadata": {},
   "source": [
    "## Importing the Libraries"
   ]
  },
  {
   "cell_type": "code",
   "execution_count": 123,
   "id": "defd44e8",
   "metadata": {},
   "outputs": [],
   "source": [
    "import pandas as pd\n",
    "import numpy as np\n",
    "import matplotlib.pyplot as plt\n",
    "%matplotlib inline\n",
    "import seaborn as sns\n",
    "import ast\n",
    "import requests\n",
    "from bs4 import BeautifulSoup\n",
    "from sklearn.model_selection import train_test_split\n",
    "from sklearn.preprocessing import StandardScaler\n",
    "from sklearn.ensemble import RandomForestRegressor\n",
    "from sklearn.metrics import mean_squared_log_error\n",
    "from sklearn.metrics import make_scorer\n",
    "from sklearn.model_selection import RandomizedSearchCV\n",
    "from sklearn.model_selection import GridSearchCV\n",
    "import string\n",
    "import warnings\n",
    "warnings.filterwarnings('ignore')"
   ]
  },
  {
   "cell_type": "markdown",
   "id": "fea1d221",
   "metadata": {},
   "source": [
    "## Importing the Dataset"
   ]
  },
  {
   "cell_type": "code",
   "execution_count": 3,
   "id": "1a3bc4e4",
   "metadata": {},
   "outputs": [],
   "source": [
    "data = pd.read_csv(\"train.csv\")"
   ]
  },
  {
   "cell_type": "markdown",
   "id": "79314fe7",
   "metadata": {},
   "source": [
    "## Analysing the Data 1"
   ]
  },
  {
   "cell_type": "code",
   "execution_count": 4,
   "id": "0ff72db6",
   "metadata": {},
   "outputs": [
    {
     "data": {
      "text/html": [
       "<div>\n",
       "<style scoped>\n",
       "    .dataframe tbody tr th:only-of-type {\n",
       "        vertical-align: middle;\n",
       "    }\n",
       "\n",
       "    .dataframe tbody tr th {\n",
       "        vertical-align: top;\n",
       "    }\n",
       "\n",
       "    .dataframe thead th {\n",
       "        text-align: right;\n",
       "    }\n",
       "</style>\n",
       "<table border=\"1\" class=\"dataframe\">\n",
       "  <thead>\n",
       "    <tr style=\"text-align: right;\">\n",
       "      <th></th>\n",
       "      <th>id</th>\n",
       "      <th>belongs_to_collection</th>\n",
       "      <th>budget</th>\n",
       "      <th>genres</th>\n",
       "      <th>homepage</th>\n",
       "      <th>imdb_id</th>\n",
       "      <th>original_language</th>\n",
       "      <th>original_title</th>\n",
       "      <th>overview</th>\n",
       "      <th>popularity</th>\n",
       "      <th>...</th>\n",
       "      <th>release_date</th>\n",
       "      <th>runtime</th>\n",
       "      <th>spoken_languages</th>\n",
       "      <th>status</th>\n",
       "      <th>tagline</th>\n",
       "      <th>title</th>\n",
       "      <th>Keywords</th>\n",
       "      <th>cast</th>\n",
       "      <th>crew</th>\n",
       "      <th>revenue</th>\n",
       "    </tr>\n",
       "  </thead>\n",
       "  <tbody>\n",
       "    <tr>\n",
       "      <th>0</th>\n",
       "      <td>1</td>\n",
       "      <td>[{'id': 313576, 'name': 'Hot Tub Time Machine ...</td>\n",
       "      <td>14000000</td>\n",
       "      <td>[{'id': 35, 'name': 'Comedy'}]</td>\n",
       "      <td>NaN</td>\n",
       "      <td>tt2637294</td>\n",
       "      <td>en</td>\n",
       "      <td>Hot Tub Time Machine 2</td>\n",
       "      <td>When Lou, who has become the \"father of the In...</td>\n",
       "      <td>6.575393</td>\n",
       "      <td>...</td>\n",
       "      <td>2/20/15</td>\n",
       "      <td>93.0</td>\n",
       "      <td>[{'iso_639_1': 'en', 'name': 'English'}]</td>\n",
       "      <td>Released</td>\n",
       "      <td>The Laws of Space and Time are About to be Vio...</td>\n",
       "      <td>Hot Tub Time Machine 2</td>\n",
       "      <td>[{'id': 4379, 'name': 'time travel'}, {'id': 9...</td>\n",
       "      <td>[{'cast_id': 4, 'character': 'Lou', 'credit_id...</td>\n",
       "      <td>[{'credit_id': '59ac067c92514107af02c8c8', 'de...</td>\n",
       "      <td>12314651</td>\n",
       "    </tr>\n",
       "    <tr>\n",
       "      <th>1</th>\n",
       "      <td>2</td>\n",
       "      <td>[{'id': 107674, 'name': 'The Princess Diaries ...</td>\n",
       "      <td>40000000</td>\n",
       "      <td>[{'id': 35, 'name': 'Comedy'}, {'id': 18, 'nam...</td>\n",
       "      <td>NaN</td>\n",
       "      <td>tt0368933</td>\n",
       "      <td>en</td>\n",
       "      <td>The Princess Diaries 2: Royal Engagement</td>\n",
       "      <td>Mia Thermopolis is now a college graduate and ...</td>\n",
       "      <td>8.248895</td>\n",
       "      <td>...</td>\n",
       "      <td>8/6/04</td>\n",
       "      <td>113.0</td>\n",
       "      <td>[{'iso_639_1': 'en', 'name': 'English'}]</td>\n",
       "      <td>Released</td>\n",
       "      <td>It can take a lifetime to find true love; she'...</td>\n",
       "      <td>The Princess Diaries 2: Royal Engagement</td>\n",
       "      <td>[{'id': 2505, 'name': 'coronation'}, {'id': 42...</td>\n",
       "      <td>[{'cast_id': 1, 'character': 'Mia Thermopolis'...</td>\n",
       "      <td>[{'credit_id': '52fe43fe9251416c7502563d', 'de...</td>\n",
       "      <td>95149435</td>\n",
       "    </tr>\n",
       "    <tr>\n",
       "      <th>2</th>\n",
       "      <td>3</td>\n",
       "      <td>NaN</td>\n",
       "      <td>3300000</td>\n",
       "      <td>[{'id': 18, 'name': 'Drama'}]</td>\n",
       "      <td>http://sonyclassics.com/whiplash/</td>\n",
       "      <td>tt2582802</td>\n",
       "      <td>en</td>\n",
       "      <td>Whiplash</td>\n",
       "      <td>Under the direction of a ruthless instructor, ...</td>\n",
       "      <td>64.299990</td>\n",
       "      <td>...</td>\n",
       "      <td>10/10/14</td>\n",
       "      <td>105.0</td>\n",
       "      <td>[{'iso_639_1': 'en', 'name': 'English'}]</td>\n",
       "      <td>Released</td>\n",
       "      <td>The road to greatness can take you to the edge.</td>\n",
       "      <td>Whiplash</td>\n",
       "      <td>[{'id': 1416, 'name': 'jazz'}, {'id': 1523, 'n...</td>\n",
       "      <td>[{'cast_id': 5, 'character': 'Andrew Neimann',...</td>\n",
       "      <td>[{'credit_id': '54d5356ec3a3683ba0000039', 'de...</td>\n",
       "      <td>13092000</td>\n",
       "    </tr>\n",
       "    <tr>\n",
       "      <th>3</th>\n",
       "      <td>4</td>\n",
       "      <td>NaN</td>\n",
       "      <td>1200000</td>\n",
       "      <td>[{'id': 53, 'name': 'Thriller'}, {'id': 18, 'n...</td>\n",
       "      <td>http://kahaanithefilm.com/</td>\n",
       "      <td>tt1821480</td>\n",
       "      <td>hi</td>\n",
       "      <td>Kahaani</td>\n",
       "      <td>Vidya Bagchi (Vidya Balan) arrives in Kolkata ...</td>\n",
       "      <td>3.174936</td>\n",
       "      <td>...</td>\n",
       "      <td>3/9/12</td>\n",
       "      <td>122.0</td>\n",
       "      <td>[{'iso_639_1': 'en', 'name': 'English'}, {'iso...</td>\n",
       "      <td>Released</td>\n",
       "      <td>NaN</td>\n",
       "      <td>Kahaani</td>\n",
       "      <td>[{'id': 10092, 'name': 'mystery'}, {'id': 1054...</td>\n",
       "      <td>[{'cast_id': 1, 'character': 'Vidya Bagchi', '...</td>\n",
       "      <td>[{'credit_id': '52fe48779251416c9108d6eb', 'de...</td>\n",
       "      <td>16000000</td>\n",
       "    </tr>\n",
       "    <tr>\n",
       "      <th>4</th>\n",
       "      <td>5</td>\n",
       "      <td>NaN</td>\n",
       "      <td>0</td>\n",
       "      <td>[{'id': 28, 'name': 'Action'}, {'id': 53, 'nam...</td>\n",
       "      <td>NaN</td>\n",
       "      <td>tt1380152</td>\n",
       "      <td>ko</td>\n",
       "      <td>마린보이</td>\n",
       "      <td>Marine Boy is the story of a former national s...</td>\n",
       "      <td>1.148070</td>\n",
       "      <td>...</td>\n",
       "      <td>2/5/09</td>\n",
       "      <td>118.0</td>\n",
       "      <td>[{'iso_639_1': 'ko', 'name': '한국어/조선말'}]</td>\n",
       "      <td>Released</td>\n",
       "      <td>NaN</td>\n",
       "      <td>Marine Boy</td>\n",
       "      <td>NaN</td>\n",
       "      <td>[{'cast_id': 3, 'character': 'Chun-soo', 'cred...</td>\n",
       "      <td>[{'credit_id': '52fe464b9251416c75073b43', 'de...</td>\n",
       "      <td>3923970</td>\n",
       "    </tr>\n",
       "  </tbody>\n",
       "</table>\n",
       "<p>5 rows × 23 columns</p>\n",
       "</div>"
      ],
      "text/plain": [
       "   id                              belongs_to_collection    budget  \\\n",
       "0   1  [{'id': 313576, 'name': 'Hot Tub Time Machine ...  14000000   \n",
       "1   2  [{'id': 107674, 'name': 'The Princess Diaries ...  40000000   \n",
       "2   3                                                NaN   3300000   \n",
       "3   4                                                NaN   1200000   \n",
       "4   5                                                NaN         0   \n",
       "\n",
       "                                              genres  \\\n",
       "0                     [{'id': 35, 'name': 'Comedy'}]   \n",
       "1  [{'id': 35, 'name': 'Comedy'}, {'id': 18, 'nam...   \n",
       "2                      [{'id': 18, 'name': 'Drama'}]   \n",
       "3  [{'id': 53, 'name': 'Thriller'}, {'id': 18, 'n...   \n",
       "4  [{'id': 28, 'name': 'Action'}, {'id': 53, 'nam...   \n",
       "\n",
       "                            homepage    imdb_id original_language  \\\n",
       "0                                NaN  tt2637294                en   \n",
       "1                                NaN  tt0368933                en   \n",
       "2  http://sonyclassics.com/whiplash/  tt2582802                en   \n",
       "3         http://kahaanithefilm.com/  tt1821480                hi   \n",
       "4                                NaN  tt1380152                ko   \n",
       "\n",
       "                             original_title  \\\n",
       "0                    Hot Tub Time Machine 2   \n",
       "1  The Princess Diaries 2: Royal Engagement   \n",
       "2                                  Whiplash   \n",
       "3                                   Kahaani   \n",
       "4                                      마린보이   \n",
       "\n",
       "                                            overview  popularity  ...  \\\n",
       "0  When Lou, who has become the \"father of the In...    6.575393  ...   \n",
       "1  Mia Thermopolis is now a college graduate and ...    8.248895  ...   \n",
       "2  Under the direction of a ruthless instructor, ...   64.299990  ...   \n",
       "3  Vidya Bagchi (Vidya Balan) arrives in Kolkata ...    3.174936  ...   \n",
       "4  Marine Boy is the story of a former national s...    1.148070  ...   \n",
       "\n",
       "  release_date runtime                                   spoken_languages  \\\n",
       "0      2/20/15    93.0           [{'iso_639_1': 'en', 'name': 'English'}]   \n",
       "1       8/6/04   113.0           [{'iso_639_1': 'en', 'name': 'English'}]   \n",
       "2     10/10/14   105.0           [{'iso_639_1': 'en', 'name': 'English'}]   \n",
       "3       3/9/12   122.0  [{'iso_639_1': 'en', 'name': 'English'}, {'iso...   \n",
       "4       2/5/09   118.0           [{'iso_639_1': 'ko', 'name': '한국어/조선말'}]   \n",
       "\n",
       "     status                                            tagline  \\\n",
       "0  Released  The Laws of Space and Time are About to be Vio...   \n",
       "1  Released  It can take a lifetime to find true love; she'...   \n",
       "2  Released    The road to greatness can take you to the edge.   \n",
       "3  Released                                                NaN   \n",
       "4  Released                                                NaN   \n",
       "\n",
       "                                      title  \\\n",
       "0                    Hot Tub Time Machine 2   \n",
       "1  The Princess Diaries 2: Royal Engagement   \n",
       "2                                  Whiplash   \n",
       "3                                   Kahaani   \n",
       "4                                Marine Boy   \n",
       "\n",
       "                                            Keywords  \\\n",
       "0  [{'id': 4379, 'name': 'time travel'}, {'id': 9...   \n",
       "1  [{'id': 2505, 'name': 'coronation'}, {'id': 42...   \n",
       "2  [{'id': 1416, 'name': 'jazz'}, {'id': 1523, 'n...   \n",
       "3  [{'id': 10092, 'name': 'mystery'}, {'id': 1054...   \n",
       "4                                                NaN   \n",
       "\n",
       "                                                cast  \\\n",
       "0  [{'cast_id': 4, 'character': 'Lou', 'credit_id...   \n",
       "1  [{'cast_id': 1, 'character': 'Mia Thermopolis'...   \n",
       "2  [{'cast_id': 5, 'character': 'Andrew Neimann',...   \n",
       "3  [{'cast_id': 1, 'character': 'Vidya Bagchi', '...   \n",
       "4  [{'cast_id': 3, 'character': 'Chun-soo', 'cred...   \n",
       "\n",
       "                                                crew   revenue  \n",
       "0  [{'credit_id': '59ac067c92514107af02c8c8', 'de...  12314651  \n",
       "1  [{'credit_id': '52fe43fe9251416c7502563d', 'de...  95149435  \n",
       "2  [{'credit_id': '54d5356ec3a3683ba0000039', 'de...  13092000  \n",
       "3  [{'credit_id': '52fe48779251416c9108d6eb', 'de...  16000000  \n",
       "4  [{'credit_id': '52fe464b9251416c75073b43', 'de...   3923970  \n",
       "\n",
       "[5 rows x 23 columns]"
      ]
     },
     "execution_count": 4,
     "metadata": {},
     "output_type": "execute_result"
    }
   ],
   "source": [
    "data.head()"
   ]
  },
  {
   "cell_type": "code",
   "execution_count": 5,
   "id": "1b006eab",
   "metadata": {},
   "outputs": [
    {
     "name": "stdout",
     "output_type": "stream",
     "text": [
      "<class 'pandas.core.frame.DataFrame'>\n",
      "RangeIndex: 3000 entries, 0 to 2999\n",
      "Data columns (total 23 columns):\n",
      " #   Column                 Non-Null Count  Dtype  \n",
      "---  ------                 --------------  -----  \n",
      " 0   id                     3000 non-null   int64  \n",
      " 1   belongs_to_collection  604 non-null    object \n",
      " 2   budget                 3000 non-null   int64  \n",
      " 3   genres                 2993 non-null   object \n",
      " 4   homepage               946 non-null    object \n",
      " 5   imdb_id                3000 non-null   object \n",
      " 6   original_language      3000 non-null   object \n",
      " 7   original_title         3000 non-null   object \n",
      " 8   overview               2992 non-null   object \n",
      " 9   popularity             3000 non-null   float64\n",
      " 10  poster_path            2999 non-null   object \n",
      " 11  production_companies   2844 non-null   object \n",
      " 12  production_countries   2945 non-null   object \n",
      " 13  release_date           3000 non-null   object \n",
      " 14  runtime                2998 non-null   float64\n",
      " 15  spoken_languages       2980 non-null   object \n",
      " 16  status                 3000 non-null   object \n",
      " 17  tagline                2403 non-null   object \n",
      " 18  title                  3000 non-null   object \n",
      " 19  Keywords               2724 non-null   object \n",
      " 20  cast                   2987 non-null   object \n",
      " 21  crew                   2984 non-null   object \n",
      " 22  revenue                3000 non-null   int64  \n",
      "dtypes: float64(2), int64(3), object(18)\n",
      "memory usage: 539.2+ KB\n"
     ]
    }
   ],
   "source": [
    "data.info()"
   ]
  },
  {
   "cell_type": "code",
   "execution_count": 6,
   "id": "12e395a6",
   "metadata": {
    "scrolled": true
   },
   "outputs": [
    {
     "data": {
      "text/html": [
       "<div>\n",
       "<style scoped>\n",
       "    .dataframe tbody tr th:only-of-type {\n",
       "        vertical-align: middle;\n",
       "    }\n",
       "\n",
       "    .dataframe tbody tr th {\n",
       "        vertical-align: top;\n",
       "    }\n",
       "\n",
       "    .dataframe thead th {\n",
       "        text-align: right;\n",
       "    }\n",
       "</style>\n",
       "<table border=\"1\" class=\"dataframe\">\n",
       "  <thead>\n",
       "    <tr style=\"text-align: right;\">\n",
       "      <th></th>\n",
       "      <th>id</th>\n",
       "      <th>budget</th>\n",
       "      <th>popularity</th>\n",
       "      <th>runtime</th>\n",
       "      <th>revenue</th>\n",
       "    </tr>\n",
       "  </thead>\n",
       "  <tbody>\n",
       "    <tr>\n",
       "      <th>count</th>\n",
       "      <td>3000.000000</td>\n",
       "      <td>3.000000e+03</td>\n",
       "      <td>3000.000000</td>\n",
       "      <td>2998.000000</td>\n",
       "      <td>3.000000e+03</td>\n",
       "    </tr>\n",
       "    <tr>\n",
       "      <th>mean</th>\n",
       "      <td>1500.500000</td>\n",
       "      <td>2.253133e+07</td>\n",
       "      <td>8.463274</td>\n",
       "      <td>107.856571</td>\n",
       "      <td>6.672585e+07</td>\n",
       "    </tr>\n",
       "    <tr>\n",
       "      <th>std</th>\n",
       "      <td>866.169729</td>\n",
       "      <td>3.702609e+07</td>\n",
       "      <td>12.104000</td>\n",
       "      <td>22.086434</td>\n",
       "      <td>1.375323e+08</td>\n",
       "    </tr>\n",
       "    <tr>\n",
       "      <th>min</th>\n",
       "      <td>1.000000</td>\n",
       "      <td>0.000000e+00</td>\n",
       "      <td>0.000001</td>\n",
       "      <td>0.000000</td>\n",
       "      <td>1.000000e+00</td>\n",
       "    </tr>\n",
       "    <tr>\n",
       "      <th>25%</th>\n",
       "      <td>750.750000</td>\n",
       "      <td>0.000000e+00</td>\n",
       "      <td>4.018053</td>\n",
       "      <td>94.000000</td>\n",
       "      <td>2.379808e+06</td>\n",
       "    </tr>\n",
       "    <tr>\n",
       "      <th>50%</th>\n",
       "      <td>1500.500000</td>\n",
       "      <td>8.000000e+06</td>\n",
       "      <td>7.374861</td>\n",
       "      <td>104.000000</td>\n",
       "      <td>1.680707e+07</td>\n",
       "    </tr>\n",
       "    <tr>\n",
       "      <th>75%</th>\n",
       "      <td>2250.250000</td>\n",
       "      <td>2.900000e+07</td>\n",
       "      <td>10.890983</td>\n",
       "      <td>118.000000</td>\n",
       "      <td>6.891920e+07</td>\n",
       "    </tr>\n",
       "    <tr>\n",
       "      <th>max</th>\n",
       "      <td>3000.000000</td>\n",
       "      <td>3.800000e+08</td>\n",
       "      <td>294.337037</td>\n",
       "      <td>338.000000</td>\n",
       "      <td>1.519558e+09</td>\n",
       "    </tr>\n",
       "  </tbody>\n",
       "</table>\n",
       "</div>"
      ],
      "text/plain": [
       "                id        budget   popularity      runtime       revenue\n",
       "count  3000.000000  3.000000e+03  3000.000000  2998.000000  3.000000e+03\n",
       "mean   1500.500000  2.253133e+07     8.463274   107.856571  6.672585e+07\n",
       "std     866.169729  3.702609e+07    12.104000    22.086434  1.375323e+08\n",
       "min       1.000000  0.000000e+00     0.000001     0.000000  1.000000e+00\n",
       "25%     750.750000  0.000000e+00     4.018053    94.000000  2.379808e+06\n",
       "50%    1500.500000  8.000000e+06     7.374861   104.000000  1.680707e+07\n",
       "75%    2250.250000  2.900000e+07    10.890983   118.000000  6.891920e+07\n",
       "max    3000.000000  3.800000e+08   294.337037   338.000000  1.519558e+09"
      ]
     },
     "execution_count": 6,
     "metadata": {},
     "output_type": "execute_result"
    }
   ],
   "source": [
    "data.describe()"
   ]
  },
  {
   "cell_type": "markdown",
   "id": "a639fa4e",
   "metadata": {},
   "source": [
    "We can see that **budget** and **runtime** have **ZERO** as **minimum value**. But we know that **budget** and **runtime** of movies can not be **ZERO**. So maybe the value **ZERO** is used in these two columns to potray **NULL VALUES**."
   ]
  },
  {
   "cell_type": "code",
   "execution_count": 7,
   "id": "abf249dc",
   "metadata": {},
   "outputs": [
    {
     "data": {
      "text/plain": [
       "812"
      ]
     },
     "execution_count": 7,
     "metadata": {},
     "output_type": "execute_result"
    }
   ],
   "source": [
    "len(data[data['budget'] == 0])"
   ]
  },
  {
   "cell_type": "markdown",
   "id": "a46b5fc8",
   "metadata": {},
   "source": [
    "**budget** column has 812 **NULL VALUES**. In the later section on dealing with **NULL VALUES**, we will be using  **WEB SCRAPING** to fill some of the **NULL VALUES** of the **budget** column. "
   ]
  },
  {
   "cell_type": "code",
   "execution_count": 8,
   "id": "40aea134",
   "metadata": {},
   "outputs": [
    {
     "data": {
      "text/plain": [
       "12"
      ]
     },
     "execution_count": 8,
     "metadata": {},
     "output_type": "execute_result"
    }
   ],
   "source": [
    "len(data[data['runtime'] == 0])"
   ]
  },
  {
   "cell_type": "markdown",
   "id": "9b8d4791",
   "metadata": {},
   "source": [
    "**runtime** column has 12 **NULL VALUES**."
   ]
  },
  {
   "cell_type": "code",
   "execution_count": 9,
   "id": "f38a141a",
   "metadata": {},
   "outputs": [],
   "source": [
    "## For the remaining columns, we will make a list of all columns having atleast 1 NULL VALUES. "
   ]
  },
  {
   "cell_type": "code",
   "execution_count": 10,
   "id": "e9dfdd72",
   "metadata": {},
   "outputs": [
    {
     "name": "stdout",
     "output_type": "stream",
     "text": [
      "belongs_to_collection------2396\n",
      "genres------7\n",
      "homepage------2054\n",
      "overview------8\n",
      "poster_path------1\n",
      "production_companies------156\n",
      "production_countries------55\n",
      "runtime------2\n",
      "spoken_languages------20\n",
      "tagline------597\n",
      "Keywords------276\n",
      "cast------13\n",
      "crew------16\n"
     ]
    }
   ],
   "source": [
    "null_columns = [feature for feature in data.columns if data[feature].isnull().sum() > 0]\n",
    "for col in null_columns:\n",
    "    print(col + \"------\" + str(data[col].isnull().sum()))"
   ]
  },
  {
   "cell_type": "markdown",
   "id": "25b61e5c",
   "metadata": {},
   "source": [
    "We can see that there are a lot of columns with missing values. So either we will either **drop** these columns or **find a way to replace the missing values**.\n"
   ]
  },
  {
   "cell_type": "markdown",
   "id": "5f7d040e",
   "metadata": {},
   "source": [
    "For better visulization of **NULL VALUES**, we will make a **heatmap** using **seaborn** library."
   ]
  },
  {
   "cell_type": "code",
   "execution_count": 11,
   "id": "19f2bff7",
   "metadata": {},
   "outputs": [
    {
     "data": {
      "text/plain": [
       "<AxesSubplot:>"
      ]
     },
     "execution_count": 11,
     "metadata": {},
     "output_type": "execute_result"
    },
    {
     "data": {
      "image/png": "[encoded data removed]",
      "text/plain": [
       "<Figure size 1296x720 with 1 Axes>"
      ]
     },
     "metadata": {
      "needs_background": "light"
     },
     "output_type": "display_data"
    }
   ],
   "source": [
    "plt.figure(figsize = (18,10))\n",
    "sns.heatmap(data.isnull() , cbar = False)"
   ]
  },
  {
   "cell_type": "markdown",
   "id": "e2381852",
   "metadata": {},
   "source": [
    "## Analysing the Data 2\n",
    "\n",
    "\n",
    "Here, we will look at each column and try to find any relation with the **revenue** column and also ways to deal with its **NULL VALUES** if present."
   ]
  },
  {
   "cell_type": "markdown",
   "id": "80924bdb",
   "metadata": {},
   "source": [
    "### belongs_to_collection"
   ]
  },
  {
   "cell_type": "code",
   "execution_count": 12,
   "id": "3477f3b7",
   "metadata": {},
   "outputs": [
    {
     "data": {
      "text/plain": [
       "0       [{'id': 313576, 'name': 'Hot Tub Time Machine ...\n",
       "1       [{'id': 107674, 'name': 'The Princess Diaries ...\n",
       "2                                                     NaN\n",
       "3                                                     NaN\n",
       "4                                                     NaN\n",
       "                              ...                        \n",
       "2995                                                  NaN\n",
       "2996                                                  NaN\n",
       "2997                                                  NaN\n",
       "2998                                                  NaN\n",
       "2999                                                  NaN\n",
       "Name: belongs_to_collection, Length: 3000, dtype: object"
      ]
     },
     "execution_count": 12,
     "metadata": {},
     "output_type": "execute_result"
    }
   ],
   "source": [
    "data['belongs_to_collection']"
   ]
  },
  {
   "cell_type": "code",
   "execution_count": 13,
   "id": "1bb71ca7",
   "metadata": {},
   "outputs": [
    {
     "name": "stdout",
     "output_type": "stream",
     "text": [
      "[{'id': 313576, 'name': 'Hot Tub Time Machine Collection', 'poster_path': '/iEhb00TGPucF0b4joM1ieyY026U.jpg', 'backdrop_path': '/noeTVcgpBiD48fDjFVic1Vz7ope.jpg'}]\n",
      "[{'id': 107674, 'name': 'The Princess Diaries Collection', 'poster_path': '/wt5AMbxPTS4Kfjx7Fgm149qPfZl.jpg', 'backdrop_path': '/zSEtYD77pKRJlUPx34BJgUG9v1c.jpg'}]\n"
     ]
    }
   ],
   "source": [
    "print(data.loc[0]['belongs_to_collection'])\n",
    "print(data.loc[1]['belongs_to_collection'])"
   ]
  },
  {
   "cell_type": "markdown",
   "id": "ccbe7cb0",
   "metadata": {},
   "source": [
    "We can see that the values in this column are present in the form of a **dictionary**. The key **name** in each **dictionary** tells us about the collection to which the particular movie belongs to.\n",
    "\n",
    "We can conclude from this section that **NULL VALUES** of this column tells us that the movie does not belong to any collection and **NON-NULL VALUES** shows that the movie belongs to a collection\n",
    "\n",
    "\n",
    "To analyse the relation of this column with **revenue**, we can make a column called **collection** which will have a value **1** if the movie belongs to any collection and **0** if it does not belong to any collection. We will then make a bar plot to find any trend"
   ]
  },
  {
   "cell_type": "code",
   "execution_count": 14,
   "id": "952bcb7d",
   "metadata": {},
   "outputs": [
    {
     "data": {
      "text/plain": [
       "Text(0, 0.5, 'revenue')"
      ]
     },
     "execution_count": 14,
     "metadata": {},
     "output_type": "execute_result"
    },
    {
     "data": {
      "image/png": "[encoded data removed]",
      "text/plain": [
       "<Figure size 432x288 with 1 Axes>"
      ]
     },
     "metadata": {
      "needs_background": "light"
     },
     "output_type": "display_data"
    }
   ],
   "source": [
    "data['collection'] = np.where(data['belongs_to_collection'].isnull() , 0 , 1)\n",
    "data.groupby(by = 'collection')['revenue'].mean().plot.bar()\n",
    "plt.ylabel('revenue')"
   ]
  },
  {
   "cell_type": "markdown",
   "id": "74d1a909",
   "metadata": {},
   "source": [
    "We can see that movies belonging to a collection have relatively higher **revenue**."
   ]
  },
  {
   "cell_type": "markdown",
   "id": "7b8cf213",
   "metadata": {},
   "source": [
    "### budget"
   ]
  },
  {
   "cell_type": "code",
   "execution_count": 15,
   "id": "b0fbe3e4",
   "metadata": {},
   "outputs": [
    {
     "data": {
      "text/plain": [
       "Text(0, 0.5, 'revenue')"
      ]
     },
     "execution_count": 15,
     "metadata": {},
     "output_type": "execute_result"
    },
    {
     "data": {
      "image/png": "[encoded data removed]",
      "text/plain": [
       "<Figure size 720x360 with 1 Axes>"
      ]
     },
     "metadata": {
      "needs_background": "light"
     },
     "output_type": "display_data"
    }
   ],
   "source": [
    "plt.figure(figsize = (10,5))\n",
    "plt.scatter(data['budget'] , data['revenue'])\n",
    "plt.xlabel('budget')\n",
    "plt.ylabel('revenue')"
   ]
  },
  {
   "cell_type": "markdown",
   "id": "5a55957c",
   "metadata": {},
   "source": [
    "We can see that with increase in **budget** , **revenue** is also increasing."
   ]
  },
  {
   "cell_type": "markdown",
   "id": "95f9650a",
   "metadata": {},
   "source": [
    "### genres"
   ]
  },
  {
   "cell_type": "code",
   "execution_count": 16,
   "id": "f769ac5a",
   "metadata": {},
   "outputs": [
    {
     "data": {
      "text/plain": [
       "0                          [{'id': 35, 'name': 'Comedy'}]\n",
       "1       [{'id': 35, 'name': 'Comedy'}, {'id': 18, 'nam...\n",
       "2                           [{'id': 18, 'name': 'Drama'}]\n",
       "3       [{'id': 53, 'name': 'Thriller'}, {'id': 18, 'n...\n",
       "4       [{'id': 28, 'name': 'Action'}, {'id': 53, 'nam...\n",
       "                              ...                        \n",
       "2995    [{'id': 35, 'name': 'Comedy'}, {'id': 10749, '...\n",
       "2996    [{'id': 18, 'name': 'Drama'}, {'id': 10402, 'n...\n",
       "2997    [{'id': 80, 'name': 'Crime'}, {'id': 28, 'name...\n",
       "2998    [{'id': 35, 'name': 'Comedy'}, {'id': 10749, '...\n",
       "2999    [{'id': 53, 'name': 'Thriller'}, {'id': 28, 'n...\n",
       "Name: genres, Length: 3000, dtype: object"
      ]
     },
     "execution_count": 16,
     "metadata": {},
     "output_type": "execute_result"
    }
   ],
   "source": [
    "data['genres']"
   ]
  },
  {
   "cell_type": "markdown",
   "id": "a3a9f8b1",
   "metadata": {},
   "source": [
    "**genres** is also present as a dictionary. To get any information from this column, first we will need to parse this dictionary.\n",
    "\n",
    "We will make a copy of our dataset to analyse. If our analysis provides us with useful trends, then we will implement the below code in our main dataset"
   ]
  },
  {
   "cell_type": "code",
   "execution_count": 17,
   "id": "da8d0bac",
   "metadata": {},
   "outputs": [],
   "source": [
    "data_1 = data.copy()\n",
    "genre = set()\n",
    "for i in data_1.index:\n",
    "    if str(data_1.loc[i]['genres']) != 'nan':\n",
    "        genres = ast.literal_eval(data_1.loc[i]['genres'])\n",
    "        for j in range(len(genres)):\n",
    "            data_1.at[i,genres[j]['name']] = 1\n",
    "            genre.add(genres[j]['name'])    "
   ]
  },
  {
   "cell_type": "code",
   "execution_count": 18,
   "id": "1e1fba75",
   "metadata": {},
   "outputs": [],
   "source": [
    "genre_revenue = {}\n",
    "for genre in genre:\n",
    "    revenue = data_1[data_1[genre] == 1]['revenue'].mean()\n",
    "    genre_revenue.update({genre:revenue})"
   ]
  },
  {
   "cell_type": "code",
   "execution_count": 19,
   "id": "137860c0",
   "metadata": {
    "scrolled": false
   },
   "outputs": [
    {
     "data": {
      "text/plain": [
       "(array([ 0,  1,  2,  3,  4,  5,  6,  7,  8,  9, 10, 11, 12, 13, 14, 15, 16,\n",
       "        17, 18, 19]),\n",
       " [Text(0, 0, 'Drama'),\n",
       "  Text(1, 0, 'Action'),\n",
       "  Text(2, 0, 'Comedy'),\n",
       "  Text(3, 0, 'Fantasy'),\n",
       "  Text(4, 0, 'Music'),\n",
       "  Text(5, 0, 'Family'),\n",
       "  Text(6, 0, 'Western'),\n",
       "  Text(7, 0, 'TV Movie'),\n",
       "  Text(8, 0, 'Crime'),\n",
       "  Text(9, 0, 'Horror'),\n",
       "  Text(10, 0, 'Adventure'),\n",
       "  Text(11, 0, 'Thriller'),\n",
       "  Text(12, 0, 'Romance'),\n",
       "  Text(13, 0, 'History'),\n",
       "  Text(14, 0, 'War'),\n",
       "  Text(15, 0, 'Mystery'),\n",
       "  Text(16, 0, 'Science Fiction'),\n",
       "  Text(17, 0, 'Animation'),\n",
       "  Text(18, 0, 'Foreign'),\n",
       "  Text(19, 0, 'Documentary')])"
      ]
     },
     "execution_count": 19,
     "metadata": {},
     "output_type": "execute_result"
    },
    {
     "data": {
      "image/png": "[encoded data removed]",
      "text/plain": [
       "<Figure size 432x288 with 1 Axes>"
      ]
     },
     "metadata": {
      "needs_background": "light"
     },
     "output_type": "display_data"
    }
   ],
   "source": [
    "genre_list = list(genre_revenue.keys())\n",
    "revenue = list(genre_revenue.values())\n",
    "plt.bar(range(len(genre_revenue)),revenue, tick_label=genre_list)\n",
    "plt.ylabel('mean-revenue')\n",
    "plt.xticks(rotation = 90)"
   ]
  },
  {
   "cell_type": "markdown",
   "id": "399a5b74",
   "metadata": {},
   "source": [
    "We can see that **Adventure** , **Fantasy** and **Animation** have the highest **mean revenue** and **Documentary** and **Foreign** genre have the least **mean revenue**."
   ]
  },
  {
   "cell_type": "markdown",
   "id": "7869b8bf",
   "metadata": {},
   "source": [
    "So now we will include all the different genres in our dataset. It will be similar to as doing **One-Hot-Encoding**."
   ]
  },
  {
   "cell_type": "code",
   "execution_count": 20,
   "id": "ee93809a",
   "metadata": {},
   "outputs": [],
   "source": [
    "genre = set()\n",
    "for i in data.index:\n",
    "    if str(data.loc[i]['genres']) != 'nan':\n",
    "        genres = ast.literal_eval(data.loc[i]['genres'])\n",
    "        for j in range(len(genres)):\n",
    "            data.at[i,genres[j]['name']] = 1\n",
    "            genre.add(genres[j]['name'])   "
   ]
  },
  {
   "cell_type": "code",
   "execution_count": 21,
   "id": "0450f860",
   "metadata": {},
   "outputs": [],
   "source": [
    "genre = np.array(list(genre))"
   ]
  },
  {
   "cell_type": "code",
   "execution_count": 22,
   "id": "3c999b3e",
   "metadata": {},
   "outputs": [],
   "source": [
    "data[genre] = np.where(data[genre].isnull(), 0 , 1)"
   ]
  },
  {
   "cell_type": "markdown",
   "id": "47e46024",
   "metadata": {},
   "source": [
    "Now we have added all the genres in the dataset."
   ]
  },
  {
   "cell_type": "markdown",
   "id": "2584687d",
   "metadata": {},
   "source": [
    "### homepage"
   ]
  },
  {
   "cell_type": "code",
   "execution_count": 23,
   "id": "99c2d1a4",
   "metadata": {},
   "outputs": [
    {
     "data": {
      "text/plain": [
       "0                                     NaN\n",
       "1                                     NaN\n",
       "2       http://sonyclassics.com/whiplash/\n",
       "3              http://kahaanithefilm.com/\n",
       "4                                     NaN\n",
       "                      ...                \n",
       "2995                                  NaN\n",
       "2996                                  NaN\n",
       "2997                                  NaN\n",
       "2998       http://www.alongcamepolly.com/\n",
       "2999     http://www.abductionthefilm.com/\n",
       "Name: homepage, Length: 3000, dtype: object"
      ]
     },
     "execution_count": 23,
     "metadata": {},
     "output_type": "execute_result"
    }
   ],
   "source": [
    "data['homepage']"
   ]
  },
  {
   "cell_type": "markdown",
   "id": "9a216f2e",
   "metadata": {},
   "source": [
    "So this column contains links to the webpage of the particular movie. **NaN** values indicate that the particular movie does not have a website.\n",
    "\n",
    "To extract any information from this column, using the website directly would be useless. So we will create another column called **is_homepage** which will have value **1** if the movie has a website and **0** if there is no website.\n",
    "\n",
    "First we will do this to a copy of our dataset. If the extracted information is useful, then we will add this column to our original dataset."
   ]
  },
  {
   "cell_type": "code",
   "execution_count": 24,
   "id": "b89a02f0",
   "metadata": {},
   "outputs": [],
   "source": [
    "data_1 = data.copy()\n",
    "data_1['is_homepage'] = np.where(data_1['homepage'].isnull() , 0 , 1)"
   ]
  },
  {
   "cell_type": "code",
   "execution_count": 25,
   "id": "260e46fc",
   "metadata": {},
   "outputs": [
    {
     "data": {
      "text/plain": [
       "Text(0, 0.5, 'mean-price')"
      ]
     },
     "execution_count": 25,
     "metadata": {},
     "output_type": "execute_result"
    },
    {
     "data": {
      "image/png": "[encoded data removed]",
      "text/plain": [
       "<Figure size 432x288 with 1 Axes>"
      ]
     },
     "metadata": {
      "needs_background": "light"
     },
     "output_type": "display_data"
    }
   ],
   "source": [
    "data_1.groupby(by = 'is_homepage')['revenue'].mean().plot.bar()\n",
    "plt.ylabel('mean-price')"
   ]
  },
  {
   "cell_type": "markdown",
   "id": "b5e9ecc9",
   "metadata": {},
   "source": [
    "We can see that movies having a **homepage** has higher **revenue**.\n",
    "\n",
    "So we will incorporate the **is_homepage** column in our original dataset."
   ]
  },
  {
   "cell_type": "code",
   "execution_count": 26,
   "id": "b4d390da",
   "metadata": {},
   "outputs": [],
   "source": [
    "data['is_homepage'] = np.where(data['homepage'].isnull() , 0 , 1)"
   ]
  },
  {
   "cell_type": "markdown",
   "id": "ce16fad1",
   "metadata": {},
   "source": [
    "### imdb_id"
   ]
  },
  {
   "cell_type": "code",
   "execution_count": 27,
   "id": "052e8dd5",
   "metadata": {},
   "outputs": [
    {
     "data": {
      "text/plain": [
       "0       tt2637294\n",
       "1       tt0368933\n",
       "2       tt2582802\n",
       "3       tt1821480\n",
       "4       tt1380152\n",
       "          ...    \n",
       "2995    tt0109403\n",
       "2996    tt2364975\n",
       "2997    tt0116908\n",
       "2998    tt0343135\n",
       "2999    tt1600195\n",
       "Name: imdb_id, Length: 3000, dtype: object"
      ]
     },
     "execution_count": 27,
     "metadata": {},
     "output_type": "execute_result"
    }
   ],
   "source": [
    "data['imdb_id']"
   ]
  },
  {
   "cell_type": "markdown",
   "id": "a74fbf92",
   "metadata": {},
   "source": [
    "This column just shows the **imdb_id** of each movie. For **prediction**, this column is useless, but while dealing with the **NULL VALUES** of **budget** column, we will use this column."
   ]
  },
  {
   "cell_type": "markdown",
   "id": "1bb6b34f",
   "metadata": {},
   "source": [
    "###  original_language"
   ]
  },
  {
   "cell_type": "code",
   "execution_count": 28,
   "id": "1437266c",
   "metadata": {},
   "outputs": [
    {
     "data": {
      "text/plain": [
       "0       en\n",
       "1       en\n",
       "2       en\n",
       "3       hi\n",
       "4       ko\n",
       "        ..\n",
       "2995    en\n",
       "2996    sv\n",
       "2997    en\n",
       "2998    en\n",
       "2999    en\n",
       "Name: original_language, Length: 3000, dtype: object"
      ]
     },
     "execution_count": 28,
     "metadata": {},
     "output_type": "execute_result"
    }
   ],
   "source": [
    "data['original_language']"
   ]
  },
  {
   "cell_type": "markdown",
   "id": "6a5d1b12",
   "metadata": {},
   "source": [
    "This column represents the language of the movie."
   ]
  },
  {
   "cell_type": "code",
   "execution_count": 29,
   "id": "54e4e17a",
   "metadata": {},
   "outputs": [
    {
     "data": {
      "text/plain": [
       "Text(0, 0.5, 'mean-revenue')"
      ]
     },
     "execution_count": 29,
     "metadata": {},
     "output_type": "execute_result"
    },
    {
     "data": {
      "image/png": "[encoded data removed]",
      "text/plain": [
       "<Figure size 432x288 with 1 Axes>"
      ]
     },
     "metadata": {
      "needs_background": "light"
     },
     "output_type": "display_data"
    }
   ],
   "source": [
    "data.groupby(by = 'original_language')['revenue'].mean().plot.bar()\n",
    "plt.ylabel('mean-revenue')"
   ]
  },
  {
   "cell_type": "markdown",
   "id": "d0c6f56f",
   "metadata": {},
   "source": [
    "We can see that for **en**, the mean revenue is the highest followed by **zh**"
   ]
  },
  {
   "cell_type": "code",
   "execution_count": 30,
   "id": "85c44050",
   "metadata": {},
   "outputs": [
    {
     "data": {
      "text/plain": [
       "2575"
      ]
     },
     "execution_count": 30,
     "metadata": {},
     "output_type": "execute_result"
    }
   ],
   "source": [
    "len(data[data['original_language'] == 'en'])"
   ]
  },
  {
   "cell_type": "code",
   "execution_count": 31,
   "id": "bed98f4c",
   "metadata": {},
   "outputs": [
    {
     "data": {
      "text/plain": [
       "19"
      ]
     },
     "execution_count": 31,
     "metadata": {},
     "output_type": "execute_result"
    }
   ],
   "source": [
    "len(data[data['original_language'] == 'zh'])"
   ]
  },
  {
   "cell_type": "markdown",
   "id": "fbee1371",
   "metadata": {},
   "source": [
    "2575 out of 3000 have **en** as their **original_language** and only **19** have **zh**.\n",
    "\n",
    "We will make a column called **is_original_language_english** which will have value **1** is the **original_language** is **en** and **0** otherwise."
   ]
  },
  {
   "cell_type": "code",
   "execution_count": 32,
   "id": "71d11d63",
   "metadata": {},
   "outputs": [
    {
     "data": {
      "text/plain": [
       "Text(0, 0.5, 'mean-revenue')"
      ]
     },
     "execution_count": 32,
     "metadata": {},
     "output_type": "execute_result"
    },
    {
     "data": {
      "image/png": "[encoded data removed]",
      "text/plain": [
       "<Figure size 432x288 with 1 Axes>"
      ]
     },
     "metadata": {
      "needs_background": "light"
     },
     "output_type": "display_data"
    }
   ],
   "source": [
    "data_1 = data.copy()\n",
    "data_1['is_original_language_english'] = np.where(data_1['original_language'] == 'en' , 1 ,0)\n",
    "data_1.groupby(by = 'is_original_language_english')['revenue'].mean().plot.bar()\n",
    "plt.ylabel('mean-revenue')"
   ]
  },
  {
   "cell_type": "markdown",
   "id": "ec5de0b2",
   "metadata": {},
   "source": [
    "A clear distinction is seen in **revenue**.\n",
    "\n",
    "So we will add **is_original_language_english** to our dataset"
   ]
  },
  {
   "cell_type": "code",
   "execution_count": 33,
   "id": "a3132b1f",
   "metadata": {},
   "outputs": [],
   "source": [
    "data['is_original_language_english'] = np.where(data['original_language'] == 'en' , 1 , 0)"
   ]
  },
  {
   "cell_type": "markdown",
   "id": "3018dccc",
   "metadata": {},
   "source": [
    "### original_title"
   ]
  },
  {
   "cell_type": "code",
   "execution_count": 34,
   "id": "8abbfb90",
   "metadata": {},
   "outputs": [
    {
     "data": {
      "text/plain": [
       "0                         Hot Tub Time Machine 2\n",
       "1       The Princess Diaries 2: Royal Engagement\n",
       "2                                       Whiplash\n",
       "3                                        Kahaani\n",
       "4                                           마린보이\n",
       "                          ...                   \n",
       "2995                                     Chasers\n",
       "2996                                 Vi är bäst!\n",
       "2997                     The Long Kiss Goodnight\n",
       "2998                            Along Came Polly\n",
       "2999                                   Abduction\n",
       "Name: original_title, Length: 3000, dtype: object"
      ]
     },
     "execution_count": 34,
     "metadata": {},
     "output_type": "execute_result"
    }
   ],
   "source": [
    "data['original_title']"
   ]
  },
  {
   "cell_type": "markdown",
   "id": "4386d0dd",
   "metadata": {},
   "source": [
    "This column just gives us the **original title** of the movie. It is of no use to us."
   ]
  },
  {
   "cell_type": "markdown",
   "id": "66b394be",
   "metadata": {},
   "source": [
    "### overview"
   ]
  },
  {
   "cell_type": "code",
   "execution_count": 35,
   "id": "03f6ff0e",
   "metadata": {},
   "outputs": [
    {
     "data": {
      "text/plain": [
       "0       When Lou, who has become the \"father of the In...\n",
       "1       Mia Thermopolis is now a college graduate and ...\n",
       "2       Under the direction of a ruthless instructor, ...\n",
       "3       Vidya Bagchi (Vidya Balan) arrives in Kolkata ...\n",
       "4       Marine Boy is the story of a former national s...\n",
       "                              ...                        \n",
       "2995    Military men Rock Reilly and Eddie Devane are ...\n",
       "2996    Three girls in 1980s Stockholm decide to form ...\n",
       "2997    Samantha Caine, suburban homemaker, is the ide...\n",
       "2998    Reuben Feffer is a guy who's spent his entire ...\n",
       "2999    A young man sets out to uncover the truth abou...\n",
       "Name: overview, Length: 3000, dtype: object"
      ]
     },
     "execution_count": 35,
     "metadata": {},
     "output_type": "execute_result"
    }
   ],
   "source": [
    "data['overview']"
   ]
  },
  {
   "cell_type": "markdown",
   "id": "50af0733",
   "metadata": {},
   "source": [
    "This column gives us the **overview** of the movie. It of no use to us."
   ]
  },
  {
   "cell_type": "markdown",
   "id": "c7d8c9d6",
   "metadata": {},
   "source": [
    "### popularity"
   ]
  },
  {
   "cell_type": "code",
   "execution_count": 36,
   "id": "04342da7",
   "metadata": {
    "scrolled": false
   },
   "outputs": [
    {
     "data": {
      "text/plain": [
       "Text(0, 0.5, 'revenue')"
      ]
     },
     "execution_count": 36,
     "metadata": {},
     "output_type": "execute_result"
    },
    {
     "data": {
      "image/png": "[encoded data removed]",
      "text/plain": [
       "<Figure size 1152x648 with 1 Axes>"
      ]
     },
     "metadata": {
      "needs_background": "light"
     },
     "output_type": "display_data"
    }
   ],
   "source": [
    "plt.figure(figsize = (16,9))\n",
    "plt.scatter(x = data['popularity'] , y = data['revenue'])\n",
    "plt.xlabel('popularity')\n",
    "plt.ylabel('revenue')"
   ]
  },
  {
   "cell_type": "markdown",
   "id": "a0747b78",
   "metadata": {},
   "source": [
    "We can see that the majority of movie have popularity < 50 . Although, there are movies with high **popularity** and less **revenue** and movies with high **popularity** and high **revenue**."
   ]
  },
  {
   "cell_type": "markdown",
   "id": "5bb8dfad",
   "metadata": {},
   "source": [
    "### poster_path"
   ]
  },
  {
   "cell_type": "code",
   "execution_count": 37,
   "id": "5a08b24a",
   "metadata": {},
   "outputs": [
    {
     "data": {
      "text/plain": [
       "0       /tQtWuwvMf0hCc2QR2tkolwl7c3c.jpg\n",
       "1       /w9Z7A0GHEhIp7etpj0vyKOeU1Wx.jpg\n",
       "2       /lIv1QinFqz4dlp5U4lQ6HaiskOZ.jpg\n",
       "3       /aTXRaPrWSinhcmCrcfJK17urp3F.jpg\n",
       "4       /m22s7zvkVFDU9ir56PiiqIEWFdT.jpg\n",
       "                      ...               \n",
       "2995    /j8Q7pQ27hvH54wpxJzIuQgQCdro.jpg\n",
       "2996    /sS01LSy6KDrCZAhtkO18UdnWFT1.jpg\n",
       "2997    /4MENR8x6mYqnZvp2hGjSaPJz64J.jpg\n",
       "2998    /nIY4kvJTTnxoBR0wycrXng5MOYs.jpg\n",
       "2999    /cUT6NQP5LAJpmUoStGtXmvNt4zA.jpg\n",
       "Name: poster_path, Length: 3000, dtype: object"
      ]
     },
     "execution_count": 37,
     "metadata": {},
     "output_type": "execute_result"
    }
   ],
   "source": [
    "data['poster_path']"
   ]
  },
  {
   "cell_type": "markdown",
   "id": "b248288d",
   "metadata": {},
   "source": [
    "This column gives us no valuable information."
   ]
  },
  {
   "cell_type": "markdown",
   "id": "d88e8da3",
   "metadata": {},
   "source": [
    "### production_companies"
   ]
  },
  {
   "cell_type": "code",
   "execution_count": 38,
   "id": "99f3f7a6",
   "metadata": {},
   "outputs": [
    {
     "data": {
      "text/plain": [
       "0       [{'name': 'Paramount Pictures', 'id': 4}, {'na...\n",
       "1             [{'name': 'Walt Disney Pictures', 'id': 2}]\n",
       "2       [{'name': 'Bold Films', 'id': 2266}, {'name': ...\n",
       "3                                                     NaN\n",
       "4                                                     NaN\n",
       "                              ...                        \n",
       "2995    [{'name': 'Warner Bros.', 'id': 6194}, {'name'...\n",
       "2996    [{'name': 'Memfis Film', 'id': 321}, {'name': ...\n",
       "2997    [{'name': 'New Line Cinema', 'id': 12}, {'name...\n",
       "2998    [{'name': 'Jersey Films', 'id': 216}, {'name':...\n",
       "2999    [{'name': 'Lions Gate Films', 'id': 35}, {'nam...\n",
       "Name: production_companies, Length: 3000, dtype: object"
      ]
     },
     "execution_count": 38,
     "metadata": {},
     "output_type": "execute_result"
    }
   ],
   "source": [
    "data['production_companies']"
   ]
  },
  {
   "cell_type": "markdown",
   "id": "7d799ca7",
   "metadata": {},
   "source": [
    "This column is present in the form of a dictionary. So first we will have to parse it in order to get any information from this column.\n",
    "\n",
    "Now instead of looking at the **mean-revenue** of each company, we will make a column called **number_of_production_companies** to extract any useful information."
   ]
  },
  {
   "cell_type": "code",
   "execution_count": 39,
   "id": "9701cac2",
   "metadata": {
    "scrolled": true
   },
   "outputs": [],
   "source": [
    "number_of_production_companies = []\n",
    "for i in data.index:\n",
    "    if str(data.loc[i]['production_companies']) != 'nan':\n",
    "        production_companies = ast.literal_eval(data.loc[i]['production_companies'])\n",
    "        number_of_production_companies.append(len(production_companies))\n",
    "    else:\n",
    "        number_of_production_companies.append(0)"
   ]
  },
  {
   "cell_type": "code",
   "execution_count": 40,
   "id": "09f331c5",
   "metadata": {
    "scrolled": true
   },
   "outputs": [
    {
     "data": {
      "text/plain": [
       "Text(0, 0.5, 'mean revenue')"
      ]
     },
     "execution_count": 40,
     "metadata": {},
     "output_type": "execute_result"
    },
    {
     "data": {
      "image/png": "[encoded data removed]",
      "text/plain": [
       "<Figure size 432x288 with 1 Axes>"
      ]
     },
     "metadata": {
      "needs_background": "light"
     },
     "output_type": "display_data"
    }
   ],
   "source": [
    "data_1 = data.copy()\n",
    "data_1['number_of_production_companies'] = number_of_production_companies\n",
    "data_1.groupby(by = 'number_of_production_companies')['revenue'].mean().plot.bar()\n",
    "plt.ylabel('mean revenue')"
   ]
  },
  {
   "cell_type": "markdown",
   "id": "045cc85c",
   "metadata": {},
   "source": [
    "We can see that initially, with increase in **number_of_production_companies** , the **mean-revenue** also **increases**, but then **decreases**."
   ]
  },
  {
   "cell_type": "markdown",
   "id": "9ed37bec",
   "metadata": {},
   "source": [
    "We will add this column to our original dataset."
   ]
  },
  {
   "cell_type": "code",
   "execution_count": 41,
   "id": "4ab659d1",
   "metadata": {},
   "outputs": [],
   "source": [
    "data['number_of_production_companies'] = number_of_production_companies"
   ]
  },
  {
   "cell_type": "markdown",
   "id": "cab2653a",
   "metadata": {},
   "source": [
    "### production_countries"
   ]
  },
  {
   "cell_type": "code",
   "execution_count": 42,
   "id": "5da64b10",
   "metadata": {},
   "outputs": [
    {
     "data": {
      "text/plain": [
       "0       [{'iso_3166_1': 'US', 'name': 'United States o...\n",
       "1       [{'iso_3166_1': 'US', 'name': 'United States o...\n",
       "2       [{'iso_3166_1': 'US', 'name': 'United States o...\n",
       "3                 [{'iso_3166_1': 'IN', 'name': 'India'}]\n",
       "4           [{'iso_3166_1': 'KR', 'name': 'South Korea'}]\n",
       "                              ...                        \n",
       "2995    [{'iso_3166_1': 'US', 'name': 'United States o...\n",
       "2996    [{'iso_3166_1': 'DK', 'name': 'Denmark'}, {'is...\n",
       "2997    [{'iso_3166_1': 'US', 'name': 'United States o...\n",
       "2998    [{'iso_3166_1': 'US', 'name': 'United States o...\n",
       "2999    [{'iso_3166_1': 'US', 'name': 'United States o...\n",
       "Name: production_countries, Length: 3000, dtype: object"
      ]
     },
     "execution_count": 42,
     "metadata": {},
     "output_type": "execute_result"
    }
   ],
   "source": [
    "data['production_countries']"
   ]
  },
  {
   "cell_type": "code",
   "execution_count": 43,
   "id": "31a35c11",
   "metadata": {},
   "outputs": [],
   "source": [
    "production_country_2 = ast.literal_eval(data_1.loc[0]['production_countries'])"
   ]
  },
  {
   "cell_type": "code",
   "execution_count": 44,
   "id": "61023124",
   "metadata": {},
   "outputs": [
    {
     "data": {
      "text/plain": [
       "1"
      ]
     },
     "execution_count": 44,
     "metadata": {},
     "output_type": "execute_result"
    }
   ],
   "source": [
    "len(production_country_2)"
   ]
  },
  {
   "cell_type": "markdown",
   "id": "70bd29a0",
   "metadata": {},
   "source": [
    "This column have values in the form of dictionary. So first we will need to parse it.\n",
    "\n",
    "We can see that most movie have *United States of America* as the **production_country**. \n",
    "\n",
    "So we will make two columns. \n",
    "\n",
    "One called **is_production_country_US** which will value **1** if one of the **production_country** is *United States of America* and **0** otherwise.\n",
    "\n",
    "Second called **number_of_production_country**, which will store the number of **production_countries**. "
   ]
  },
  {
   "cell_type": "code",
   "execution_count": 45,
   "id": "3c983fd5",
   "metadata": {},
   "outputs": [],
   "source": [
    "number_of_production_country = []\n",
    " \n",
    "data_1 = data.copy()    \n",
    "for i in data_1.index:\n",
    "    if str(data_1.loc[i]['production_countries']) != 'nan':\n",
    "        production_country = ast.literal_eval(data_1.loc[i]['production_countries'])\n",
    "        number_of_production_country.append(len(production_country))\n",
    "        a = -1\n",
    "        for j in range(len(production_country)):\n",
    "            if production_country[j]['iso_3166_1'] == 'US':\n",
    "                data_1.at[i,'is_production_country_US'] = 1\n",
    "                a = 0\n",
    "        if a == -1:\n",
    "            data_1.at[i,'is_production_country_US'] = 0\n",
    "    else:\n",
    "        number_of_production_country.append(0)\n",
    "        data_1.at[i,'is_production_country_US'] = 0\n",
    "            "
   ]
  },
  {
   "cell_type": "code",
   "execution_count": 46,
   "id": "cbc91637",
   "metadata": {},
   "outputs": [
    {
     "data": {
      "text/plain": [
       "Text(0, 0.5, 'mean revenue')"
      ]
     },
     "execution_count": 46,
     "metadata": {},
     "output_type": "execute_result"
    },
    {
     "data": {
      "image/png": "[encoded data removed]",
      "text/plain": [
       "<Figure size 432x288 with 1 Axes>"
      ]
     },
     "metadata": {
      "needs_background": "light"
     },
     "output_type": "display_data"
    }
   ],
   "source": [
    "data_1['number_of_production_country'] = number_of_production_country\n",
    "data_1.groupby(by = 'number_of_production_country')['revenue'].mean().plot.bar()\n",
    "plt.ylabel('mean revenue')"
   ]
  },
  {
   "cell_type": "markdown",
   "id": "f7c2a6a8",
   "metadata": {},
   "source": [
    "We can see that for extreme values like **0**, **6** and **8**, the **mean revenue** is relatively low."
   ]
  },
  {
   "cell_type": "code",
   "execution_count": 47,
   "id": "a185be72",
   "metadata": {},
   "outputs": [
    {
     "data": {
      "text/plain": [
       "<AxesSubplot:xlabel='is_production_country_US'>"
      ]
     },
     "execution_count": 47,
     "metadata": {},
     "output_type": "execute_result"
    },
    {
     "data": {
      "image/png": "[encoded data removed]",
      "text/plain": [
       "<Figure size 432x288 with 1 Axes>"
      ]
     },
     "metadata": {
      "needs_background": "light"
     },
     "output_type": "display_data"
    }
   ],
   "source": [
    "data_1.groupby(by = 'is_production_country_US')['revenue'].mean().plot.bar()"
   ]
  },
  {
   "cell_type": "markdown",
   "id": "66a4a3dd",
   "metadata": {},
   "source": [
    "We can clearly see that country with **US** as one of the **production country** has relatively high **revenue**"
   ]
  },
  {
   "cell_type": "markdown",
   "id": "6faad43a",
   "metadata": {},
   "source": [
    "We will add both **is_production_country_US** and **number_of_production_country** to our original dataset"
   ]
  },
  {
   "cell_type": "code",
   "execution_count": 48,
   "id": "01de033e",
   "metadata": {},
   "outputs": [],
   "source": [
    "data['number_of_production_country'] = number_of_production_country\n",
    "data['is_production_country_US'] = data_1['is_production_country_US']"
   ]
  },
  {
   "cell_type": "markdown",
   "id": "002027cd",
   "metadata": {},
   "source": [
    "### release_date"
   ]
  },
  {
   "cell_type": "code",
   "execution_count": 49,
   "id": "dafb912a",
   "metadata": {},
   "outputs": [
    {
     "data": {
      "text/plain": [
       "0        2/20/15\n",
       "1         8/6/04\n",
       "2       10/10/14\n",
       "3         3/9/12\n",
       "4         2/5/09\n",
       "          ...   \n",
       "2995     4/22/94\n",
       "2996     3/28/13\n",
       "2997    10/11/96\n",
       "2998     1/16/04\n",
       "2999     9/22/11\n",
       "Name: release_date, Length: 3000, dtype: object"
      ]
     },
     "execution_count": 49,
     "metadata": {},
     "output_type": "execute_result"
    }
   ],
   "source": [
    "data['release_date']"
   ]
  },
  {
   "cell_type": "markdown",
   "id": "b99d258f",
   "metadata": {},
   "source": [
    "First we will convert this column to a **datetime object**."
   ]
  },
  {
   "cell_type": "code",
   "execution_count": 50,
   "id": "f787c6bd",
   "metadata": {},
   "outputs": [],
   "source": [
    "data['release_date'] = pd.to_datetime(data['release_date'])"
   ]
  },
  {
   "cell_type": "markdown",
   "id": "4d583e7f",
   "metadata": {},
   "source": [
    "Now, we will extract the **year**, **month** and **day** from the **release_date** column."
   ]
  },
  {
   "cell_type": "code",
   "execution_count": 51,
   "id": "da6f889f",
   "metadata": {},
   "outputs": [],
   "source": [
    "data_1 = data.copy()\n",
    "data_1['year'] = data_1['release_date'].dt.year\n",
    "data_1['month'] = data_1['release_date'].dt.month\n",
    "data_1['day'] = data_1['release_date'].dt.day"
   ]
  },
  {
   "cell_type": "code",
   "execution_count": 52,
   "id": "7133edb1",
   "metadata": {},
   "outputs": [
    {
     "data": {
      "text/plain": [
       "Text(0, 0.5, 'mean revenue')"
      ]
     },
     "execution_count": 52,
     "metadata": {},
     "output_type": "execute_result"
    },
    {
     "data": {
      "image/png": "[encoded data removed]",
      "text/plain": [
       "<Figure size 1296x576 with 1 Axes>"
      ]
     },
     "metadata": {
      "needs_background": "light"
     },
     "output_type": "display_data"
    }
   ],
   "source": [
    "plt.figure(figsize = (18,8))\n",
    "data_1.groupby(by = 'year')['revenue'].mean().plot.bar()\n",
    "plt.ylabel('mean revenue')"
   ]
  },
  {
   "cell_type": "markdown",
   "id": "90444c49",
   "metadata": {},
   "source": [
    "We can see an error in the year column. There are values of year greater than 2021.\n",
    "\n",
    "This could be because **2024** is actually **1924** and so on.\n",
    "\n",
    "Hence we must sort this out first"
   ]
  },
  {
   "cell_type": "code",
   "execution_count": 53,
   "id": "1de3b980",
   "metadata": {},
   "outputs": [],
   "source": [
    "for i in data_1.index:\n",
    "    if data_1.loc[i]['year'] > 2021:\n",
    "        date = str(data_1.loc[i]['year'])[:-2]\n",
    "        date = '19' + date\n",
    "        data_1.at[i,'year'] = date"
   ]
  },
  {
   "cell_type": "markdown",
   "id": "58d129e5",
   "metadata": {},
   "source": [
    "We have fixed the anamoly in the **year** column."
   ]
  },
  {
   "cell_type": "code",
   "execution_count": 54,
   "id": "7decdf29",
   "metadata": {},
   "outputs": [
    {
     "data": {
      "text/plain": [
       "Text(0, 0.5, 'mean revenue')"
      ]
     },
     "execution_count": 54,
     "metadata": {},
     "output_type": "execute_result"
    },
    {
     "data": {
      "image/png": "[encoded data removed]",
      "text/plain": [
       "<Figure size 1296x576 with 1 Axes>"
      ]
     },
     "metadata": {
      "needs_background": "light"
     },
     "output_type": "display_data"
    }
   ],
   "source": [
    "plt.figure(figsize = (18,8))\n",
    "data_1.groupby(by = 'year')['revenue'].mean().plot.bar()\n",
    "plt.ylabel('mean revenue')"
   ]
  },
  {
   "cell_type": "markdown",
   "id": "7e86fff9",
   "metadata": {},
   "source": [
    "We can see that with increase in **year**, the **mean revenue** is also increasing."
   ]
  },
  {
   "cell_type": "code",
   "execution_count": 55,
   "id": "81b14970",
   "metadata": {},
   "outputs": [
    {
     "data": {
      "text/plain": [
       "Text(0, 0.5, 'mean revenue')"
      ]
     },
     "execution_count": 55,
     "metadata": {},
     "output_type": "execute_result"
    },
    {
     "data": {
      "image/png": "[encoded data removed]",
      "text/plain": [
       "<Figure size 1296x576 with 1 Axes>"
      ]
     },
     "metadata": {
      "needs_background": "light"
     },
     "output_type": "display_data"
    }
   ],
   "source": [
    "plt.figure(figsize = (18,8))\n",
    "data_1.groupby(by = 'month')['revenue'].mean().plot.bar()\n",
    "plt.ylabel('mean revenue')"
   ]
  },
  {
   "cell_type": "markdown",
   "id": "b85933c8",
   "metadata": {},
   "source": [
    "We can see that **mean revenue** is varies for all the **months** "
   ]
  },
  {
   "cell_type": "code",
   "execution_count": 56,
   "id": "b401308b",
   "metadata": {
    "scrolled": false
   },
   "outputs": [
    {
     "data": {
      "text/plain": [
       "Text(0, 0.5, 'mean revenue')"
      ]
     },
     "execution_count": 56,
     "metadata": {},
     "output_type": "execute_result"
    },
    {
     "data": {
      "image/png": "[encoded data removed]",
      "text/plain": [
       "<Figure size 1296x576 with 1 Axes>"
      ]
     },
     "metadata": {
      "needs_background": "light"
     },
     "output_type": "display_data"
    }
   ],
   "source": [
    "plt.figure(figsize = (18,8))\n",
    "data_1.groupby(by = 'day')['revenue'].mean().plot.bar()\n",
    "plt.ylabel('mean revenue')"
   ]
  },
  {
   "cell_type": "markdown",
   "id": "4f79dd0f",
   "metadata": {},
   "source": [
    "We can see that movies released at the **end of the month** have **higher** **revenue**."
   ]
  },
  {
   "cell_type": "markdown",
   "id": "17255141",
   "metadata": {},
   "source": [
    "We will now try to find out on which **day of the week** each movie was released to find any other valuable information."
   ]
  },
  {
   "cell_type": "code",
   "execution_count": 57,
   "id": "f2596295",
   "metadata": {},
   "outputs": [],
   "source": [
    "data_1['day_of_the_week'] = data_1['release_date'].dt.dayofweek"
   ]
  },
  {
   "cell_type": "code",
   "execution_count": 58,
   "id": "12c6e1b5",
   "metadata": {},
   "outputs": [
    {
     "data": {
      "text/plain": [
       "<AxesSubplot:xlabel='day_of_the_week'>"
      ]
     },
     "execution_count": 58,
     "metadata": {},
     "output_type": "execute_result"
    },
    {
     "data": {
      "image/png": "[encoded data removed]",
      "text/plain": [
       "<Figure size 432x288 with 1 Axes>"
      ]
     },
     "metadata": {
      "needs_background": "light"
     },
     "output_type": "display_data"
    }
   ],
   "source": [
    "data_1.groupby(by = 'day_of_the_week')['revenue'].mean().plot.bar()"
   ]
  },
  {
   "cell_type": "markdown",
   "id": "1f26e764",
   "metadata": {},
   "source": [
    "Here the week starts from **monday**, hence **0** denotes **monday**. We can see that **mean revenue** is highest for **tuesday** and **wednesday**."
   ]
  },
  {
   "cell_type": "markdown",
   "id": "10a15523",
   "metadata": {},
   "source": [
    "We will include all the 4 new columns that we created in our original dataset."
   ]
  },
  {
   "cell_type": "code",
   "execution_count": 59,
   "id": "7ca5f0fd",
   "metadata": {},
   "outputs": [],
   "source": [
    "data['year'] = data['release_date'].dt.year\n",
    "data['month'] = data['release_date'].dt.month\n",
    "data['day'] = data['release_date'].dt.day\n",
    "\n",
    "for i in data.index:\n",
    "    if data.loc[i]['year'] > 2021:\n",
    "        date = str(data.loc[i]['year'])[:-2]\n",
    "        date = '19' + date\n",
    "        data.at[i,'year'] = date\n",
    "\n",
    "data['day_of_the_week'] = data['release_date'].dt.dayofweek        "
   ]
  },
  {
   "cell_type": "markdown",
   "id": "f314fafb",
   "metadata": {},
   "source": [
    "### runtime"
   ]
  },
  {
   "cell_type": "code",
   "execution_count": 60,
   "id": "5d98c946",
   "metadata": {},
   "outputs": [
    {
     "data": {
      "text/plain": [
       "0        93.0\n",
       "1       113.0\n",
       "2       105.0\n",
       "3       122.0\n",
       "4       118.0\n",
       "        ...  \n",
       "2995    102.0\n",
       "2996    102.0\n",
       "2997    120.0\n",
       "2998     90.0\n",
       "2999    106.0\n",
       "Name: runtime, Length: 3000, dtype: float64"
      ]
     },
     "execution_count": 60,
     "metadata": {},
     "output_type": "execute_result"
    }
   ],
   "source": [
    "data['runtime']"
   ]
  },
  {
   "cell_type": "markdown",
   "id": "6bf0020f",
   "metadata": {},
   "source": [
    "This column gives us the **lenght** of each movie in **minutes**."
   ]
  },
  {
   "cell_type": "code",
   "execution_count": 61,
   "id": "56bcf521",
   "metadata": {},
   "outputs": [
    {
     "data": {
      "text/plain": [
       "140"
      ]
     },
     "execution_count": 61,
     "metadata": {},
     "output_type": "execute_result"
    }
   ],
   "source": [
    "len(data['runtime'].unique())"
   ]
  },
  {
   "cell_type": "markdown",
   "id": "dedee1ed",
   "metadata": {},
   "source": [
    "We can see that there are **140** different movie **runtime**.\n",
    "\n",
    "\n",
    "We will now create three groups. \n",
    "\n",
    "1) movies with runtime less than 1 hour.\n",
    "\n",
    "2) movies with runtime between 1 and 2 hours.\n",
    "\n",
    "3) movies with runtime > 2 hours"
   ]
  },
  {
   "cell_type": "code",
   "execution_count": 62,
   "id": "96925411",
   "metadata": {},
   "outputs": [],
   "source": [
    "data_1 = data.copy()\n",
    "for i in data_1.index:\n",
    "    if data_1.loc[i]['runtime'] < 60:\n",
    "        data_1.at[i,'runtime_group'] = 1\n",
    "    elif (data_1.loc[i]['runtime'] > 60) & (data_1.loc[i]['runtime'] < 120):\n",
    "        data_1.at[i,'runtime_group'] = 2\n",
    "    else:\n",
    "        data_1.at[i,'runtime_group'] = 3"
   ]
  },
  {
   "cell_type": "code",
   "execution_count": 63,
   "id": "0b1ed731",
   "metadata": {},
   "outputs": [
    {
     "data": {
      "text/plain": [
       "<AxesSubplot:xlabel='runtime_group'>"
      ]
     },
     "execution_count": 63,
     "metadata": {},
     "output_type": "execute_result"
    },
    {
     "data": {
      "image/png": "[encoded data removed]",
      "text/plain": [
       "<Figure size 432x288 with 1 Axes>"
      ]
     },
     "metadata": {
      "needs_background": "light"
     },
     "output_type": "display_data"
    }
   ],
   "source": [
    "data_1.groupby(by = 'runtime_group')['revenue'].mean().plot.bar()"
   ]
  },
  {
   "cell_type": "markdown",
   "id": "9913ad0b",
   "metadata": {},
   "source": [
    "We can see that movies in the **3rd group** has the highest **mean revenue**."
   ]
  },
  {
   "cell_type": "markdown",
   "id": "9329b2c2",
   "metadata": {},
   "source": [
    "We will include this column in our original dataset"
   ]
  },
  {
   "cell_type": "code",
   "execution_count": 64,
   "id": "b0cec7a5",
   "metadata": {},
   "outputs": [],
   "source": [
    "data['runtime_group'] = data_1['runtime_group']"
   ]
  },
  {
   "cell_type": "markdown",
   "id": "ddeabe3e",
   "metadata": {},
   "source": [
    "### spoken_languages"
   ]
  },
  {
   "cell_type": "code",
   "execution_count": 65,
   "id": "18f6e4f2",
   "metadata": {},
   "outputs": [
    {
     "data": {
      "text/plain": [
       "0                [{'iso_639_1': 'en', 'name': 'English'}]\n",
       "1                [{'iso_639_1': 'en', 'name': 'English'}]\n",
       "2                [{'iso_639_1': 'en', 'name': 'English'}]\n",
       "3       [{'iso_639_1': 'en', 'name': 'English'}, {'iso...\n",
       "4                [{'iso_639_1': 'ko', 'name': '한국어/조선말'}]\n",
       "                              ...                        \n",
       "2995             [{'iso_639_1': 'en', 'name': 'English'}]\n",
       "2996             [{'iso_639_1': 'sv', 'name': 'svenska'}]\n",
       "2997             [{'iso_639_1': 'en', 'name': 'English'}]\n",
       "2998             [{'iso_639_1': 'en', 'name': 'English'}]\n",
       "2999             [{'iso_639_1': 'en', 'name': 'English'}]\n",
       "Name: spoken_languages, Length: 3000, dtype: object"
      ]
     },
     "execution_count": 65,
     "metadata": {},
     "output_type": "execute_result"
    }
   ],
   "source": [
    "data['spoken_languages']"
   ]
  },
  {
   "cell_type": "markdown",
   "id": "39220b8f",
   "metadata": {},
   "source": [
    "This column consists of all the different **languages** spoken in the movie and its in the form of a dictionary, so first we will have to parse it."
   ]
  },
  {
   "cell_type": "code",
   "execution_count": 66,
   "id": "9e366b03",
   "metadata": {},
   "outputs": [],
   "source": [
    "data_1 = data.copy()\n",
    "spoken_languages = set()\n",
    "number_of_spoken_languages = []\n",
    "for i in data_1.index:\n",
    "    if str(data_1.loc[i]['spoken_languages']) != 'nan':\n",
    "        languages = ast.literal_eval(data_1.loc[i]['spoken_languages'])\n",
    "        number_of_spoken_languages.append(len(languages))\n",
    "        for j in range(len(languages)):\n",
    "            data_1.at[i,languages[j]['name']] = 1\n",
    "            spoken_languages.add(languages[j]['name'])\n",
    "    else:\n",
    "        number_of_spoken_languages.append(0)"
   ]
  },
  {
   "cell_type": "code",
   "execution_count": 67,
   "id": "ad8570b4",
   "metadata": {},
   "outputs": [],
   "source": [
    "languages_revenue = {}\n",
    "\n",
    "for languages in spoken_languages:\n",
    "    if languages != '':\n",
    "        revenue = data_1[data_1[languages] == 1]['revenue'].mean()\n",
    "        languages_revenue.update({languages:revenue})"
   ]
  },
  {
   "cell_type": "code",
   "execution_count": 68,
   "id": "2c565ad1",
   "metadata": {},
   "outputs": [
    {
     "data": {
      "text/plain": [
       "(array([ 0,  1,  2,  3,  4,  5,  6,  7,  8,  9, 10, 11, 12, 13, 14, 15, 16,\n",
       "        17, 18, 19, 20, 21, 22, 23, 24, 25, 26, 27, 28, 29, 30, 31, 32, 33,\n",
       "        34, 35, 36, 37, 38, 39, 40, 41, 42, 43, 44, 45, 46, 47, 48, 49, 50,\n",
       "        51, 52, 53, 54]),\n",
       " [Text(0, 0, 'български език'),\n",
       "  Text(1, 0, 'Hrvatski'),\n",
       "  Text(2, 0, 'العربية'),\n",
       "  Text(3, 0, 'Català'),\n",
       "  Text(4, 0, 'ελληνικά'),\n",
       "  Text(5, 0, 'қазақ'),\n",
       "  Text(6, 0, '한국어/조선말'),\n",
       "  Text(7, 0, 'ภาษาไทย'),\n",
       "  Text(8, 0, 'Norsk'),\n",
       "  Text(9, 0, 'Tiếng Việt'),\n",
       "  Text(10, 0, 'Nederlands'),\n",
       "  Text(11, 0, 'Srpski'),\n",
       "  Text(12, 0, 'ਪੰਜਾਬੀ'),\n",
       "  Text(13, 0, 'Română'),\n",
       "  Text(14, 0, 'தமிழ்'),\n",
       "  Text(15, 0, 'বাংলা'),\n",
       "  Text(16, 0, 'shqip'),\n",
       "  Text(17, 0, 'Bahasa indonesia'),\n",
       "  Text(18, 0, 'Esperanto'),\n",
       "  Text(19, 0, 'اردو'),\n",
       "  Text(20, 0, 'Polski'),\n",
       "  Text(21, 0, 'English'),\n",
       "  Text(22, 0, 'Wolof'),\n",
       "  Text(23, 0, 'Español'),\n",
       "  Text(24, 0, 'Português'),\n",
       "  Text(25, 0, 'Eesti'),\n",
       "  Text(26, 0, 'Latin'),\n",
       "  Text(27, 0, '普通话'),\n",
       "  Text(28, 0, 'euskera'),\n",
       "  Text(29, 0, 'Slovenčina'),\n",
       "  Text(30, 0, 'Magyar'),\n",
       "  Text(31, 0, 'עִבְרִית'),\n",
       "  Text(32, 0, 'Türkçe'),\n",
       "  Text(33, 0, 'پښتو'),\n",
       "  Text(34, 0, 'Český'),\n",
       "  Text(35, 0, '广州话 / 廣州話'),\n",
       "  Text(36, 0, 'Deutsch'),\n",
       "  Text(37, 0, 'Dansk'),\n",
       "  Text(38, 0, 'svenska'),\n",
       "  Text(39, 0, 'فارسی'),\n",
       "  Text(40, 0, 'suomi'),\n",
       "  Text(41, 0, 'Somali'),\n",
       "  Text(42, 0, '日本語'),\n",
       "  Text(43, 0, 'Íslenska'),\n",
       "  Text(44, 0, 'isiZulu'),\n",
       "  Text(45, 0, 'हिन्दी'),\n",
       "  Text(46, 0, 'Italiano'),\n",
       "  Text(47, 0, 'తెలుగు'),\n",
       "  Text(48, 0, 'Gaeilge'),\n",
       "  Text(49, 0, 'Afrikaans'),\n",
       "  Text(50, 0, 'Kiswahili'),\n",
       "  Text(51, 0, 'Français'),\n",
       "  Text(52, 0, 'No Language'),\n",
       "  Text(53, 0, 'Український'),\n",
       "  Text(54, 0, 'Pусский')])"
      ]
     },
     "execution_count": 68,
     "metadata": {},
     "output_type": "execute_result"
    },
    {
     "data": {
      "image/png": "[encoded data removed]",
      "text/plain": [
       "<Figure size 1296x576 with 1 Axes>"
      ]
     },
     "metadata": {
      "needs_background": "light"
     },
     "output_type": "display_data"
    }
   ],
   "source": [
    "language_list = list(languages_revenue.keys())\n",
    "revenue = list(languages_revenue.values())\n",
    "plt.figure(figsize = (18,8))\n",
    "plt.bar(range(len(languages_revenue)),revenue, tick_label=language_list)\n",
    "plt.ylabel('mean-revenue')\n",
    "plt.xticks(rotation = 90)"
   ]
  },
  {
   "cell_type": "markdown",
   "id": "4f4eec7e",
   "metadata": {},
   "source": [
    "we can see that **mean revenue** varies upon the **langauge** spoken in the movie."
   ]
  },
  {
   "cell_type": "code",
   "execution_count": 69,
   "id": "9c65a4c4",
   "metadata": {},
   "outputs": [
    {
     "data": {
      "text/plain": [
       "Text(0, 0.5, 'mean revenue')"
      ]
     },
     "execution_count": 69,
     "metadata": {},
     "output_type": "execute_result"
    },
    {
     "data": {
      "image/png": "[encoded data removed]",
      "text/plain": [
       "<Figure size 432x288 with 1 Axes>"
      ]
     },
     "metadata": {
      "needs_background": "light"
     },
     "output_type": "display_data"
    }
   ],
   "source": [
    "data_1['number_of_spoken_languages'] = number_of_spoken_languages\n",
    "data_1.groupby(by = 'number_of_spoken_languages')['revenue'].mean().plot.bar()\n",
    "plt.ylabel('mean revenue')"
   ]
  },
  {
   "cell_type": "markdown",
   "id": "2c91cdc7",
   "metadata": {},
   "source": [
    "**mean revenue** varies depending upon the **number of spoken languages**. \n",
    "\n",
    "So we will include all the **types of languages spoken** in our original dataset and also the **number_of_spoken_languages** column"
   ]
  },
  {
   "cell_type": "code",
   "execution_count": 70,
   "id": "b7efe95d",
   "metadata": {},
   "outputs": [],
   "source": [
    "for i in data.index:\n",
    "    if str(data.loc[i]['spoken_languages']) != 'nan':\n",
    "        languages = ast.literal_eval(data.loc[i]['spoken_languages'])\n",
    "        for j in range(len(languages)):\n",
    "            data.at[i,languages[j]['name']] = 1\n",
    "spoken_languages = np.array(list(spoken_languages))\n",
    "data[spoken_languages] = np.where(data[spoken_languages].isnull() , 0 , 1)\n",
    "data['numer_of_spoken_languages'] = number_of_spoken_languages"
   ]
  },
  {
   "cell_type": "markdown",
   "id": "2a8cffb5",
   "metadata": {},
   "source": [
    "### status"
   ]
  },
  {
   "cell_type": "code",
   "execution_count": 71,
   "id": "f1245f9b",
   "metadata": {},
   "outputs": [
    {
     "data": {
      "text/plain": [
       "array(['Released', 'Rumored'], dtype=object)"
      ]
     },
     "execution_count": 71,
     "metadata": {},
     "output_type": "execute_result"
    }
   ],
   "source": [
    "data['status'].unique()"
   ]
  },
  {
   "cell_type": "code",
   "execution_count": 72,
   "id": "ccb63897",
   "metadata": {},
   "outputs": [
    {
     "data": {
      "text/plain": [
       "Released    2996\n",
       "Rumored        4\n",
       "Name: status, dtype: int64"
      ]
     },
     "execution_count": 72,
     "metadata": {},
     "output_type": "execute_result"
    }
   ],
   "source": [
    "data['status'].value_counts()"
   ]
  },
  {
   "cell_type": "markdown",
   "id": "bb0ef0b9",
   "metadata": {},
   "source": [
    "There are two types of **status**.\n",
    "\n",
    "1) Released (2996 values)\n",
    "\n",
    "2) Rumored ( 4 values)\n",
    "\n",
    "\n",
    "\n",
    "we will plot a bar graph to see if this column yields any valuable information"
   ]
  },
  {
   "cell_type": "code",
   "execution_count": 73,
   "id": "58851a63",
   "metadata": {},
   "outputs": [
    {
     "data": {
      "text/plain": [
       "<AxesSubplot:xlabel='status'>"
      ]
     },
     "execution_count": 73,
     "metadata": {},
     "output_type": "execute_result"
    },
    {
     "data": {
      "image/png": "[encoded data removed]",
      "text/plain": [
       "<Figure size 432x288 with 1 Axes>"
      ]
     },
     "metadata": {
      "needs_background": "light"
     },
     "output_type": "display_data"
    }
   ],
   "source": [
    "data.groupby(by = 'status')['revenue'].mean().plot.bar()"
   ]
  },
  {
   "cell_type": "markdown",
   "id": "2f0e92df",
   "metadata": {},
   "source": [
    "We can see that **Released** has higher **mean revenue** than **Rumored**\n",
    "\n",
    "Using this column, we will make two columns called **Rumoured** and **Released** which will be similar to as doing One-Hot-Encoding on the **status** column."
   ]
  },
  {
   "cell_type": "code",
   "execution_count": 74,
   "id": "ccb371b2",
   "metadata": {},
   "outputs": [],
   "source": [
    "data['Released'] = np.where(data['status'] == 'Released' , 1 , 0)\n",
    "data['Rumoured'] = np.where(data['status'] == 'Rumoured' , 1 , 0)"
   ]
  },
  {
   "cell_type": "markdown",
   "id": "acd24a6b",
   "metadata": {},
   "source": [
    "### tagline"
   ]
  },
  {
   "cell_type": "code",
   "execution_count": 75,
   "id": "370b4c57",
   "metadata": {},
   "outputs": [
    {
     "data": {
      "text/plain": [
       "0       The Laws of Space and Time are About to be Vio...\n",
       "1       It can take a lifetime to find true love; she'...\n",
       "2         The road to greatness can take you to the edge.\n",
       "3                                                     NaN\n",
       "4                                                     NaN\n",
       "                              ...                        \n",
       "2995    It was supposed to be a routine prisoner trans...\n",
       "2996                                                  NaN\n",
       "2997                 What's forgotten is not always gone.\n",
       "2998    For the most cautious man on Earth, life is ab...\n",
       "2999            They stole his life. He's taking it back.\n",
       "Name: tagline, Length: 3000, dtype: object"
      ]
     },
     "execution_count": 75,
     "metadata": {},
     "output_type": "execute_result"
    }
   ],
   "source": [
    "data['tagline']"
   ]
  },
  {
   "cell_type": "markdown",
   "id": "6d1479eb",
   "metadata": {},
   "source": [
    "This column gives us the tagline for each movie. This column is useless for us"
   ]
  },
  {
   "cell_type": "markdown",
   "id": "9eb9a327",
   "metadata": {},
   "source": [
    "### title"
   ]
  },
  {
   "cell_type": "code",
   "execution_count": 76,
   "id": "bfdbed77",
   "metadata": {},
   "outputs": [
    {
     "data": {
      "text/plain": [
       "0                         Hot Tub Time Machine 2\n",
       "1       The Princess Diaries 2: Royal Engagement\n",
       "2                                       Whiplash\n",
       "3                                        Kahaani\n",
       "4                                     Marine Boy\n",
       "                          ...                   \n",
       "2995                                     Chasers\n",
       "2996                            We Are the Best!\n",
       "2997                     The Long Kiss Goodnight\n",
       "2998                            Along Came Polly\n",
       "2999                                   Abduction\n",
       "Name: title, Length: 3000, dtype: object"
      ]
     },
     "execution_count": 76,
     "metadata": {},
     "output_type": "execute_result"
    }
   ],
   "source": [
    "data['title']"
   ]
  },
  {
   "cell_type": "markdown",
   "id": "2c5acf1a",
   "metadata": {},
   "source": [
    "This column gives us the **title** each movie in **english**. We have no use of this column."
   ]
  },
  {
   "cell_type": "markdown",
   "id": "ea0fe89d",
   "metadata": {},
   "source": [
    "### Keywords"
   ]
  },
  {
   "cell_type": "code",
   "execution_count": 77,
   "id": "34e83a02",
   "metadata": {},
   "outputs": [
    {
     "data": {
      "text/plain": [
       "0       [{'id': 4379, 'name': 'time travel'}, {'id': 9...\n",
       "1       [{'id': 2505, 'name': 'coronation'}, {'id': 42...\n",
       "2       [{'id': 1416, 'name': 'jazz'}, {'id': 1523, 'n...\n",
       "3       [{'id': 10092, 'name': 'mystery'}, {'id': 1054...\n",
       "4                                                     NaN\n",
       "                              ...                        \n",
       "2995    [{'id': 378, 'name': 'prison'}, {'id': 572, 'n...\n",
       "2996    [{'id': 1192, 'name': 'sweden'}, {'id': 4470, ...\n",
       "2997    [{'id': 441, 'name': 'assassination'}, {'id': ...\n",
       "2998    [{'id': 966, 'name': 'beach'}, {'id': 2676, 'n...\n",
       "2999    [{'id': 591, 'name': 'cia'}, {'id': 822, 'name...\n",
       "Name: Keywords, Length: 3000, dtype: object"
      ]
     },
     "execution_count": 77,
     "metadata": {},
     "output_type": "execute_result"
    }
   ],
   "source": [
    "data['Keywords']"
   ]
  },
  {
   "cell_type": "markdown",
   "id": "ae701aec",
   "metadata": {},
   "source": [
    "This columns gives us different **keyword** which are related to the movies. It is of no use to us."
   ]
  },
  {
   "cell_type": "markdown",
   "id": "4859b24b",
   "metadata": {},
   "source": [
    "### cast"
   ]
  },
  {
   "cell_type": "code",
   "execution_count": 78,
   "id": "e7bab2a2",
   "metadata": {},
   "outputs": [
    {
     "data": {
      "text/plain": [
       "0       [{'cast_id': 4, 'character': 'Lou', 'credit_id...\n",
       "1       [{'cast_id': 1, 'character': 'Mia Thermopolis'...\n",
       "2       [{'cast_id': 5, 'character': 'Andrew Neimann',...\n",
       "3       [{'cast_id': 1, 'character': 'Vidya Bagchi', '...\n",
       "4       [{'cast_id': 3, 'character': 'Chun-soo', 'cred...\n",
       "                              ...                        \n",
       "2995    [{'cast_id': 2, 'character': 'Rock Reilly', 'c...\n",
       "2996    [{'cast_id': 5, 'character': 'Bobo', 'credit_i...\n",
       "2997    [{'cast_id': 10, 'character': 'Samantha Caine ...\n",
       "2998    [{'cast_id': 8, 'character': 'Reuben Feffer', ...\n",
       "2999    [{'cast_id': 2, 'character': 'Nathan Harper', ...\n",
       "Name: cast, Length: 3000, dtype: object"
      ]
     },
     "execution_count": 78,
     "metadata": {},
     "output_type": "execute_result"
    }
   ],
   "source": [
    "data['cast']"
   ]
  },
  {
   "cell_type": "code",
   "execution_count": 79,
   "id": "33bb16d4",
   "metadata": {},
   "outputs": [
    {
     "data": {
      "text/plain": [
       "\"[{'cast_id': 4, 'character': 'Lou', 'credit_id': '52fe4ee7c3a36847f82afae7', 'gender': 2, 'id': 52997, 'name': 'Rob Corddry', 'order': 0, 'profile_path': '/k2zJL0V1nEZuFT08xUdOd3ucfXz.jpg'}, {'cast_id': 5, 'character': 'Nick', 'credit_id': '52fe4ee7c3a36847f82afaeb', 'gender': 2, 'id': 64342, 'name': 'Craig Robinson', 'order': 1, 'profile_path': '/tVaRMkJXOEVhYxtnnFuhqW0Rjzz.jpg'}, {'cast_id': 6, 'character': 'Jacob', 'credit_id': '52fe4ee7c3a36847f82afaef', 'gender': 2, 'id': 54729, 'name': 'Clark Duke', 'order': 2, 'profile_path': '/oNzK0umwm5Wn0wyEbOy6TVJCSBn.jpg'}, {'cast_id': 7, 'character': 'Adam Jr.', 'credit_id': '52fe4ee7c3a36847f82afaf3', 'gender': 2, 'id': 36801, 'name': 'Adam Scott', 'order': 3, 'profile_path': '/5gb65xz8bzd42yjMAl4zwo4cvKw.jpg'}, {'cast_id': 8, 'character': 'Hot Tub Repairman', 'credit_id': '52fe4ee7c3a36847f82afaf7', 'gender': 2, 'id': 54812, 'name': 'Chevy Chase', 'order': 4, 'profile_path': '/svjpyYtPwtjvRxX9IZnOmOkhDOt.jpg'}, {'cast_id': 9, 'character': 'Jill', 'credit_id': '52fe4ee7c3a36847f82afafb', 'gender': 1, 'id': 94098, 'name': 'Gillian Jacobs', 'order': 5, 'profile_path': '/rBnhe5vhNPnhRUdtYahBWx90fJM.jpg'}, {'cast_id': 10, 'character': 'Sophie', 'credit_id': '52fe4ee7c3a36847f82afaff', 'gender': 1, 'id': 1159009, 'name': 'Bianca Haase', 'order': 6, 'profile_path': '/4x3nbtD8q8phAJPmoGWXPvz0iM.jpg'}, {'cast_id': 11, 'character': 'Kelly', 'credit_id': '5524ec51c3a3687df3000dbb', 'gender': 1, 'id': 86624, 'name': 'Collette Wolfe', 'order': 7, 'profile_path': '/aSD4h5379b2eEw3bLou9ByLimmq.jpg'}, {'cast_id': 13, 'character': 'Brad', 'credit_id': '5524ec8ec3a3687ded000d72', 'gender': 2, 'id': 466505, 'name': 'Kumail Nanjiani', 'order': 9, 'profile_path': '/x4nAztHY72SVciRfxEsbhIVTsIu.jpg'}, {'cast_id': 14, 'character': 'Courtney', 'credit_id': '5524ec9bc3a3687df8000d13', 'gender': 1, 'id': 70776, 'name': 'Kellee Stewart', 'order': 10, 'profile_path': '/w3xmsEPmJc1Cf0dQ4aIn8YmlHbk.jpg'}, {'cast_id': 15, 'character': 'Terry', 'credit_id': '5524eca892514171cb008237', 'gender': 2, 'id': 347335, 'name': 'Josh Heald', 'order': 11, 'profile_path': '/pwXJIenrDMrG7t3zNfLvr8w1RGU.jpg'}, {'cast_id': 16, 'character': 'Susan', 'credit_id': '5524ecb7925141720c001116', 'gender': 0, 'id': 1451392, 'name': 'Gretchen Koerner', 'order': 12, 'profile_path': '/muULPexCTJGyJba4yKzxronpD50.jpg'}, {'cast_id': 17, 'character': 'Herself', 'credit_id': '5524ecc3c3a3687ded000d74', 'gender': 1, 'id': 98879, 'name': 'Lisa Loeb', 'order': 13, 'profile_path': '/bGqg58ca0bZR38z9HliUMmeNGE.jpg'}, {'cast_id': 18, 'character': 'Herself', 'credit_id': '5524ecd3c3a3687e11000ed3', 'gender': 1, 'id': 1394648, 'name': 'Jessica Williams', 'order': 14, 'profile_path': '/A4syKjkcYB92wLEhH0c0hC3BCpz.jpg'}, {'cast_id': 19, 'character': 'Himself', 'credit_id': '5524ece6925141718d001009', 'gender': 0, 'id': 1451393, 'name': 'Bruce Buffer', 'order': 15, 'profile_path': None}, {'cast_id': 20, 'character': 'Shot Girl', 'credit_id': '5524ecf5c3a3687e08000dc2', 'gender': 0, 'id': 1451394, 'name': 'Mariana Paola Vicente', 'order': 16, 'profile_path': '/ckPllza8624UHWGHCbLShkLxCD1.jpg'}, {'cast_id': 33, 'character': 'Choozy Doozy Host', 'credit_id': '555844da9251412afe0013a9', 'gender': 2, 'id': 2224, 'name': 'Christian Slater', 'order': 17, 'profile_path': '/3ElLWjnvchMS6Q4cIQOK8QNAoMG.jpg'}, {'cast_id': 35, 'character': 'Gary Winkle', 'credit_id': '55872027c3a3683853005074', 'gender': 0, 'id': 185805, 'name': 'Jason Jones', 'order': 18, 'profile_path': '/aIoCw6vo8AGMdsQRAI5g2t0yJT3.jpg'}, {'cast_id': 36, 'character': 'Bridesmaid', 'credit_id': '55efe971c3a368090c00cd1b', 'gender': 0, 'id': 1507448, 'name': 'Olivia Jordan', 'order': 19, 'profile_path': '/szMukAEiIDeasel0lvyaeyKuych.jpg'}, {'cast_id': 37, 'character': 'Christine', 'credit_id': '55efe980c3a36871bf008176', 'gender': 1, 'id': 1334091, 'name': 'Christine Bently', 'order': 20, 'profile_path': '/oUZltnGa55OXE52hfyPTfCshuNy.jpg'}, {'cast_id': 38, 'character': 'Excited Girl', 'credit_id': '55efe98e9251413e3201d316', 'gender': 0, 'id': 557803, 'name': 'Stacey Asaro', 'order': 21, 'profile_path': '/qTPdlr1dXf3kNdyHuDsgtGC0HCC.jpg'}, {'cast_id': 64, 'character': 'Adam (uncredited)', 'credit_id': '58f2135ac3a3682e95008b91', 'gender': 2, 'id': 3036, 'name': 'John Cusack', 'order': 22, 'profile_path': '/uKydQYuZ9TnCzvbQLtj6j98vWAT.jpg'}, {'cast_id': 65, 'character': 'J-Bird', 'credit_id': '59ac0240c3a3682cc802c399', 'gender': 2, 'id': 59256, 'name': 'Adam Herschman', 'order': 23, 'profile_path': '/wZMwiuX1DslF6hDS50z9OTN6z1X.jpg'}, {'cast_id': 66, 'character': 'Bridesmaid', 'credit_id': '59ac02cd925141079d02b1b4', 'gender': 1, 'id': 129714, 'name': 'Kisha Sierra', 'order': 24, 'profile_path': None}]\""
      ]
     },
     "execution_count": 79,
     "metadata": {},
     "output_type": "execute_result"
    }
   ],
   "source": [
    "data.loc[0]['cast']"
   ]
  },
  {
   "cell_type": "markdown",
   "id": "f0c25dfd",
   "metadata": {},
   "source": [
    "This column gives us the **character name** and **who played it**. We will not use this column."
   ]
  },
  {
   "cell_type": "markdown",
   "id": "b3e40f35",
   "metadata": {},
   "source": [
    "### crew"
   ]
  },
  {
   "cell_type": "code",
   "execution_count": 80,
   "id": "de138e9f",
   "metadata": {},
   "outputs": [
    {
     "data": {
      "text/plain": [
       "0       [{'credit_id': '59ac067c92514107af02c8c8', 'de...\n",
       "1       [{'credit_id': '52fe43fe9251416c7502563d', 'de...\n",
       "2       [{'credit_id': '54d5356ec3a3683ba0000039', 'de...\n",
       "3       [{'credit_id': '52fe48779251416c9108d6eb', 'de...\n",
       "4       [{'credit_id': '52fe464b9251416c75073b43', 'de...\n",
       "                              ...                        \n",
       "2995    [{'credit_id': '52fe4494c3a368484e02ac7d', 'de...\n",
       "2996    [{'credit_id': '5716b72ac3a3686678012c84', 'de...\n",
       "2997    [{'credit_id': '52fe443a9251416c7502d579', 'de...\n",
       "2998    [{'credit_id': '556f817b9251410866000a63', 'de...\n",
       "2999    [{'credit_id': '5391990d0e0a260fb5001629', 'de...\n",
       "Name: crew, Length: 3000, dtype: object"
      ]
     },
     "execution_count": 80,
     "metadata": {},
     "output_type": "execute_result"
    }
   ],
   "source": [
    "data['crew']"
   ]
  },
  {
   "cell_type": "code",
   "execution_count": 81,
   "id": "293506f4",
   "metadata": {},
   "outputs": [
    {
     "data": {
      "text/plain": [
       "'[{\\'credit_id\\': \\'59ac067c92514107af02c8c8\\', \\'department\\': \\'Directing\\', \\'gender\\': 0, \\'id\\': 1449071, \\'job\\': \\'First Assistant Director\\', \\'name\\': \\'Kelly Cantley\\', \\'profile_path\\': None}, {\\'credit_id\\': \\'52fe4ee7c3a36847f82afad7\\', \\'department\\': \\'Directing\\', \\'gender\\': 2, \\'id\\': 3227, \\'job\\': \\'Director\\', \\'name\\': \\'Steve Pink\\', \\'profile_path\\': \\'/myHOgo8mQSCiCAZNGMRdHVr03jr.jpg\\'}, {\\'credit_id\\': \\'5524ed25c3a3687ded000d88\\', \\'department\\': \\'Writing\\', \\'gender\\': 2, \\'id\\': 347335, \\'job\\': \\'Writer\\', \\'name\\': \\'Josh Heald\\', \\'profile_path\\': \\'/pwXJIenrDMrG7t3zNfLvr8w1RGU.jpg\\'}, {\\'credit_id\\': \\'5524ed2d925141720c001128\\', \\'department\\': \\'Writing\\', \\'gender\\': 2, \\'id\\': 347335, \\'job\\': \\'Characters\\', \\'name\\': \\'Josh Heald\\', \\'profile_path\\': \\'/pwXJIenrDMrG7t3zNfLvr8w1RGU.jpg\\'}, {\\'credit_id\\': \\'5524ed3d92514166c1004a5d\\', \\'department\\': \\'Production\\', \\'gender\\': 2, \\'id\\': 57822, \\'job\\': \\'Producer\\', \\'name\\': \\'Andrew Panay\\', \\'profile_path\\': None}, {\\'credit_id\\': \\'5524ed4bc3a3687df3000dd2\\', \\'department\\': \\'Production\\', \\'gender\\': 0, \\'id\\': 1451395, \\'job\\': \\'Associate Producer\\', \\'name\\': \\'Adam Blum\\', \\'profile_path\\': None}, {\\'credit_id\\': \\'5524ed5a925141720c00112c\\', \\'department\\': \\'Production\\', \\'gender\\': 2, \\'id\\': 52997, \\'job\\': \\'Executive Producer\\', \\'name\\': \\'Rob Corddry\\', \\'profile_path\\': \\'/k2zJL0V1nEZuFT08xUdOd3ucfXz.jpg\\'}, {\\'credit_id\\': \\'5524ed85c3a3687e0e000f56\\', \\'department\\': \\'Production\\', \\'gender\\': 0, \\'id\\': 62807, \\'job\\': \\'Executive Producer\\', \\'name\\': \\'Ben Ormand\\', \\'profile_path\\': None}, {\\'credit_id\\': \\'5524ed9fc3a3687e0e000f59\\', \\'department\\': \\'Sound\\', \\'gender\\': 2, \\'id\\': 23486, \\'job\\': \\'Original Music Composer\\', \\'name\\': \\'Christophe Beck\\', \\'profile_path\\': \\'/2fnJUmCk6IEpVIptpYaUk31epHx.jpg\\'}, {\\'credit_id\\': \\'5524eda6c3a3687e03000d28\\', \\'department\\': \\'Camera\\', \\'gender\\': 2, \\'id\\': 6117, \\'job\\': \\'Director of Photography\\', \\'name\\': \\'Declan Quinn\\', \\'profile_path\\': None}, {\\'credit_id\\': \\'5524edb4925141720c00113d\\', \\'department\\': \\'Editing\\', \\'gender\\': 0, \\'id\\': 1451396, \\'job\\': \\'Editor\\', \\'name\\': \\'Jamie Gross\\', \\'profile_path\\': None}, {\\'credit_id\\': \\'5524edc1925141727600102e\\', \\'department\\': \\'Production\\', \\'gender\\': 0, \\'id\\': 22219, \\'job\\': \\'Casting\\', \\'name\\': \\'Susie Farris\\', \\'profile_path\\': None}, {\\'credit_id\\': \\'5524edd192514171cb008257\\', \\'department\\': \\'Art\\', \\'gender\\': 0, \\'id\\': 1002643, \\'job\\': \\'Production Design\\', \\'name\\': \\'Ryan Berg\\', \\'profile_path\\': None}, {\\'credit_id\\': \\'555ad9be9251411e5b00d485\\', \\'department\\': \\'Production\\', \\'gender\\': 2, \\'id\\': 57431, \\'job\\': \\'Executive Producer\\', \\'name\\': \\'Matt Moore\\', \\'profile_path\\': None}, {\\'credit_id\\': \\'5677e93bc3a36816890087dc\\', \\'department\\': \\'Directing\\', \\'gender\\': 0, \\'id\\': 1551818, \\'job\\': \\'Script Supervisor\\', \\'name\\': \\'Nicole Garcea\\', \\'profile_path\\': None}, {\\'credit_id\\': \\'5677e96a92514179e10093d0\\', \\'department\\': \\'Production\\', \\'gender\\': 0, \\'id\\': 1551819, \\'job\\': \\'Production Coordinator\\', \\'name\\': \\'Jason Salzman\\', \\'profile_path\\': None}, {\\'credit_id\\': \\'5677e98492514179d2008cd9\\', \\'department\\': \\'Costume & Make-Up\\', \\'gender\\': 0, \\'id\\': 1422996, \\'job\\': \\'Costume Design\\', \\'name\\': \\'Carol Cutshall\\', \\'profile_path\\': None}, {\\'credit_id\\': \\'5677e9d5c3a368168e009414\\', \\'department\\': \\'Art\\', \\'gender\\': 2, \\'id\\': 500199, \\'job\\': \\'Set Decoration\\', \\'name\\': \\'Tim Cohn\\', \\'profile_path\\': None}, {\\'credit_id\\': \\'5677f89d9251417845001a61\\', \\'department\\': \\'Costume & Make-Up\\', \\'gender\\': 0, \\'id\\': 1527917, \\'job\\': \\'Hair Department Head\\', \\'name\\': \\'Voni Hinkle\\', \\'profile_path\\': None}, {\\'credit_id\\': \\'5677f8b392514179dd0089fb\\', \\'department\\': \\'Costume & Make-Up\\', \\'gender\\': 0, \\'id\\': 1431554, \\'job\\': \\'Makeup Department Head\\', \\'name\\': \\'Remi Savva\\', \\'profile_path\\': None}, {\\'credit_id\\': \\'5677f8d1c3a3681689008a4b\\', \\'department\\': \\'Art\\', \\'gender\\': 0, \\'id\\': 66495, \\'job\\': \\'Art Direction\\', \\'name\\': \\'Jason Baldwin Stewart\\', \\'profile_path\\': None}, {\\'credit_id\\': \\'5677f8eec3a3681685008dd5\\', \\'department\\': \\'Production\\', \\'gender\\': 0, \\'id\\': 1412466, \\'job\\': \\'Production Supervisor\\', \\'name\\': \\'Korey Budd\\', \\'profile_path\\': None}, {\\'credit_id\\': \\'5677f90a9251417845001a7d\\', \\'department\\': \\'Sound\\', \\'gender\\': 0, \\'id\\': 1401562, \\'job\\': \\'Sound Re-Recording Mixer\\', \\'name\\': \\'Gary C. Bourgeois\\', \\'profile_path\\': None}, {\\'credit_id\\': \\'5677f91e9251417845001a84\\', \\'department\\': \\'Sound\\', \\'gender\\': 0, \\'id\\': 1396794, \\'job\\': \\'Sound Re-Recording Mixer\\', \\'name\\': \\'Gabriel J. Serrano\\', \\'profile_path\\': None}, {\\'credit_id\\': \\'5677f938c3a3681680008dd4\\', \\'department\\': \\'Editing\\', \\'gender\\': 0, \\'id\\': 13168, \\'job\\': \\'Dialogue Editor\\', \\'name\\': \\'Victoria Rose Sampson\\', \\'profile_path\\': None}, {\\'credit_id\\': \\'5677f94e92514179dd008a1f\\', \\'department\\': \\'Sound\\', \\'gender\\': 0, \\'id\\': 1551839, \\'job\\': \\'Production Sound Mixer\\', \\'name\\': \\'Michael B. Koff\\', \\'profile_path\\': None}, {\\'credit_id\\': \\'5677f968c3a368168e009698\\', \\'department\\': \\'Sound\\', \\'gender\\': 0, \\'id\\': 113052, \\'job\\': \\'Sound Effects Editor\\', \\'name\\': \\'Randall Guth\\', \\'profile_path\\': None}, {\\'credit_id\\': \\'5677f98dc3a3681685008e02\\', \\'department\\': \\'Crew\\', \\'gender\\': 2, \\'id\\': 1442535, \\'job\\': \\'Stunt Coordinator\\', \\'name\\': \\'Chuck Picerni Jr.\\', \\'profile_path\\': \\'/yE5QtXUzcrnCzMRctZL8F5g842B.jpg\\'}, {\\'credit_id\\': \\'5677f9a692514179dd008a49\\', \\'department\\': \\'Camera\\', \\'gender\\': 0, \\'id\\': 1437305, \\'job\\': \\'Camera Operator\\', \\'name\\': \\'Michael Applebaum\\', \\'profile_path\\': None}, {\\'credit_id\\': \\'5677f9bd9251417845001aae\\', \\'department\\': \\'Camera\\', \\'gender\\': 0, \\'id\\': 1401765, \\'job\\': \\'Still Photographer\\', \\'name\\': \\'Steve Dietl\\', \\'profile_path\\': None}, {\\'credit_id\\': \\'5677f9e592514179e7008bf7\\', \\'department\\': \\'Lighting\\', \\'gender\\': 0, \\'id\\': 1402721, \\'job\\': \\'Rigging Gaffer\\', \\'name\\': \\'Tarik Naim Alherimi\\', \\'profile_path\\': None}, {\\'credit_id\\': \\'5677f9f4c3a368167c0090ed\\', \\'department\\': \\'Lighting\\', \\'gender\\': 0, \\'id\\': 1402719, \\'job\\': \\'Gaffer\\', \\'name\\': \\'Paul Olinde\\', \\'profile_path\\': None}, {\\'credit_id\\': \\'5677fa21c3a368168e0096ca\\', \\'department\\': \\'Sound\\', \\'gender\\': 0, \\'id\\': 1551840, \\'job\\': \\'Music Supervisor\\', \\'name\\': \\'Steve Griffen\\', \\'profile_path\\': None}, {\\'credit_id\\': \\'5677fa31c3a3681680008e04\\', \\'department\\': \\'Sound\\', \\'gender\\': 0, \\'id\\': 1551841, \\'job\\': \\'Music Editor\\', \\'name\\': \\'Matt Fausak\\', \\'profile_path\\': None}, {\\'credit_id\\': \\'5677fa4392514179dd008a76\\', \\'department\\': \\'Sound\\', \\'gender\\': 0, \\'id\\': 1551840, \\'job\\': \\'Music Editor\\', \\'name\\': \\'Steve Griffen\\', \\'profile_path\\': None}, {\\'credit_id\\': \\'5677fa609251417845001acf\\', \\'department\\': \\'Costume & Make-Up\\', \\'gender\\': 0, \\'id\\': 1403416, \\'job\\': \\'Costume Supervisor\\', \\'name\\': \\'Shonta T. McCray\\', \\'profile_path\\': None}, {\\'credit_id\\': \\'5677fa8492514179d2008fb3\\', \\'department\\': \\'Camera\\', \\'gender\\': 0, \\'id\\': 1425831, \\'job\\': \\'Steadicam Operator\\', \\'name\\': \\'Mark Karavite\\', \\'profile_path\\': None}, {\\'credit_id\\': \\'5677fab2c3a3681689008ac3\\', \\'department\\': \\'Camera\\', \\'gender\\': 0, \\'id\\': 1551842, \\'job\\': \\'First Assistant Camera\\', \\'name\\': \\'Joe Waistell\\', \\'profile_path\\': None}, {\\'credit_id\\': \\'5677faecc3a368168e0096fe\\', \\'department\\': \\'Sound\\', \\'gender\\': 0, \\'id\\': 58362, \\'job\\': \\'Supervising Sound Editor\\', \\'name\\': \\'Michael Hilkene\\', \\'profile_path\\': None}, {\\'credit_id\\': \\'59ac0368c3a3682c0a02c484\\', \\'department\\': \\'Crew\\', \\'gender\\': 0, \\'id\\': 1881584, \\'job\\': \\'Additional Writing\\', \\'name\\': \\'John Karnay\\', \\'profile_path\\': None}, {\\'credit_id\\': \\'59ac0411c3a3682bf0028966\\', \\'department\\': \\'Costume & Make-Up\\', \\'gender\\': 0, \\'id\\': 1431552, \\'job\\': \\'Hairstylist\\', \\'name\\': \\'Daina Daigle\\', \\'profile_path\\': None}, {\\'credit_id\\': \\'59ac0504925141072302b8fb\\', \\'department\\': \\'Costume & Make-Up\\', \\'gender\\': 0, \\'id\\': 1712001, \\'job\\': \\'Makeup Artist\\', \\'name\\': \\'Allison Gordin\\', \\'profile_path\\': None}, {\\'credit_id\\': \\'59ac0570c3a3682bf0028aac\\', \\'department\\': \\'Costume & Make-Up\\', \\'gender\\': 0, \\'id\\': 578725, \\'job\\': \\'Makeup Artist\\', \\'name\\': \\'Darryl Lucas\\', \\'profile_path\\': None}, {\\'credit_id\\': \\'59ac05a4925141077e02c97e\\', \\'department\\': \\'Costume & Make-Up\\', \\'gender\\': 0, \\'id\\': 1463274, \\'job\\': \\'Makeup Artist\\', \\'name\\': \\'Annabelle MacNeal\\', \\'profile_path\\': None}, {\\'credit_id\\': \\'59ac05c6925141076502d106\\', \\'department\\': \\'Costume & Make-Up\\', \\'gender\\': 0, \\'id\\': 1881586, \\'job\\': \\'Makeup Artist\\', \\'name\\': \\'Marina Savva\\', \\'profile_path\\': None}, {\\'credit_id\\': \\'59ac0615c3a3682c480296aa\\', \\'department\\': \\'Costume & Make-Up\\', \\'gender\\': 0, \\'id\\': 1406267, \\'job\\': \\'Hairstylist\\', \\'name\\': \\'Carl G. Variste\\', \\'profile_path\\': None}, {\\'credit_id\\': \\'59ac06ba925141076502d1fa\\', \\'department\\': \\'Directing\\', \\'gender\\': 0, \\'id\\': 1798593, \\'job\\': \\'First Assistant Director\\', \\'name\\': \\'Josh King\\', \\'profile_path\\': None}, {\\'credit_id\\': \\'59ac06f1c3a3682c2202aca0\\', \\'department\\': \\'Art\\', \\'gender\\': 0, \\'id\\': 1415083, \\'job\\': \\'Greensman\\', \\'name\\': \\'Scott C. Bivona\\', \\'profile_path\\': None}, {\\'credit_id\\': \\'59ac072c925141076502d260\\', \\'department\\': \\'Art\\', \\'gender\\': 0, \\'id\\': 1881587, \\'job\\': \\'Title Designer\\', \\'name\\': \\'Eunha Choi\\', \\'profile_path\\': None}, {\\'credit_id\\': \\'59ac077c925141077e02cb62\\', \\'department\\': \\'Art\\', \\'gender\\': 0, \\'id\\': 1585302, \\'job\\': \\'Construction Coordinator\\', \\'name\\': \\'Daniel Coe\\', \\'profile_path\\': None}, {\\'credit_id\\': \\'59ac07e0925141078a02d842\\', \\'department\\': \\'Art\\', \\'gender\\': 0, \\'id\\': 1495523, \\'job\\': \\'Set Designer\\', \\'name\\': \\'Spencer Davison\\', \\'profile_path\\': None}, {\\'credit_id\\': \\'59ac0862925141072f02cf6f\\', \\'department\\': \\'Art\\', \\'gender\\': 0, \\'id\\': 1881589, \\'job\\': \\'Painter\\', \\'name\\': \\'Sonia L. Garcia\\', \\'profile_path\\': None}, {\\'credit_id\\': \\'59ac08e0c3a3682bf0028e51\\', \\'department\\': \\'Art\\', \\'gender\\': 0, \\'id\\': 1424896, \\'job\\': \\'Art Department Coordinator\\', \\'name\\': \\'Caleb Guillotte\\', \\'profile_path\\': None}, {\\'credit_id\\': \\'59ac0920c3a3682c2202af36\\', \\'department\\': \\'Art\\', \\'gender\\': 0, \\'id\\': 1393375, \\'job\\': \\'Leadman\\', \\'name\\': \"Pat A. O\\'Connor\", \\'profile_path\\': None}, {\\'credit_id\\': \\'59ac095592514107af02cc39\\', \\'department\\': \\'Art\\', \\'gender\\': 0, \\'id\\': 1881592, \\'job\\': \\'Set Designer\\', \\'name\\': \\'Brendan Turrill\\', \\'profile_path\\': None}, {\\'credit_id\\': \\'59ac0989925141072302bdfa\\', \\'department\\': \\'Art\\', \\'gender\\': 2, \\'id\\': 76497, \\'job\\': \\'Property Master\\', \\'name\\': \\'Brook Yeaton\\', \\'profile_path\\': None}, {\\'credit_id\\': \\'59ac0a2cc3a3682c9c02add1\\', \\'department\\': \\'Sound\\', \\'gender\\': 0, \\'id\\': 1881596, \\'job\\': \\'Boom Operator\\', \\'name\\': \\'Matthew Armstrong\\', \\'profile_path\\': None}, {\\'credit_id\\': \\'59ac0aa8925141072f02d282\\', \\'department\\': \\'Visual Effects\\', \\'gender\\': 2, \\'id\\': 1558086, \\'job\\': \\'Special Effects Supervisor\\', \\'name\\': \\'Matt Kutcher\\', \\'profile_path\\': None}, {\\'credit_id\\': \\'59ac0b2ac3a3682c2202b192\\', \\'department\\': \\'Crew\\', \\'gender\\': 2, \\'id\\': 1558087, \\'job\\': \\'Special Effects Coordinator\\', \\'name\\': \\'Eric Roberts\\', \\'profile_path\\': None}, {\\'credit_id\\': \\'59ac0b7ac3a3682c2202b1fb\\', \\'department\\': \\'Visual Effects\\', \\'gender\\': 0, \\'id\\': 1392098, \\'job\\': \\'Visual Effects Supervisor\\', \\'name\\': \\'Rocco Passionino\\', \\'profile_path\\': None}, {\\'credit_id\\': \\'59ac0bbe925141077e02d0c4\\', \\'department\\': \\'Visual Effects\\', \\'gender\\': 0, \\'id\\': 1558716, \\'job\\': \\'Visual Effects Coordinator\\', \\'name\\': \\'Joseph Payo\\', \\'profile_path\\': None}, {\\'credit_id\\': \\'59ac0bf2c3a3682cc802cefa\\', \\'department\\': \\'Visual Effects\\', \\'gender\\': 0, \\'id\\': 1408784, \\'job\\': \\'Visual Effects Producer\\', \\'name\\': \\'Chris Roff\\', \\'profile_path\\': None}, {\\'credit_id\\': \\'59ac0c51c3a3682c48029d99\\', \\'department\\': \\'Lighting\\', \\'gender\\': 0, \\'id\\': 1881600, \\'job\\': \\'Best Boy Electric\\', \\'name\\': \\'Ulyan Atamanyuk\\', \\'profile_path\\': None}, {\\'credit_id\\': \\'59ac0cbac3a3682c0a02cff6\\', \\'department\\': \\'Camera\\', \\'gender\\': 0, \\'id\\': 1881602, \\'job\\': \\'Key Grip\\', \\'name\\': \\'Chris Ekstrom\\', \\'profile_path\\': None}, {\\'credit_id\\': \\'59ac0d54925141072f02d5e6\\', \\'department\\': \\'Lighting\\', \\'gender\\': 0, \\'id\\': 1484984, \\'job\\': \\'Best Boy Electric\\', \\'name\\': \\'Brad Garris\\', \\'profile_path\\': None}, {\\'credit_id\\': \\'59ac0db0925141078a02df86\\', \\'department\\': \\'Camera\\', \\'gender\\': 0, \\'id\\': 1881603, \\'job\\': \\'Dolly Grip\\', \\'name\\': \\'Kendell Joseph\\', \\'profile_path\\': None}, {\\'credit_id\\': \\'59ac0e5a925141077e02d39f\\', \\'department\\': \\'Camera\\', \\'gender\\': 0, \\'id\\': 1549179, \\'job\\': \\'Dolly Grip\\', \\'name\\': \\'Spencer Wilcox\\', \\'profile_path\\': None}, {\\'credit_id\\': \\'59ac0e9f925141079d02bee6\\', \\'department\\': \\'Costume & Make-Up\\', \\'gender\\': 0, \\'id\\': 1552626, \\'job\\': \\'Key Costumer\\', \\'name\\': \\'Sarah P. Koeppe\\', \\'profile_path\\': None}, {\\'credit_id\\': \\'59ac0ec1c3a3682bf0029524\\', \\'department\\': \\'Costume & Make-Up\\', \\'gender\\': 0, \\'id\\': 1881605, \\'job\\': \\'Seamstress\\', \\'name\\': \\'Catherine Rodi\\', \\'profile_path\\': None}, {\\'credit_id\\': \\'59ac0eef925141070702c7ff\\', \\'department\\': \\'Costume & Make-Up\\', \\'gender\\': 0, \\'id\\': 1463801, \\'job\\': \\'Seamstress\\', \\'name\\': \\'Giselle Spence\\', \\'profile_path\\': None}, {\\'credit_id\\': \\'59ac0f5dc3a3682c4802a0f5\\', \\'department\\': \\'Production\\', \\'gender\\': 0, \\'id\\': 1400837, \\'job\\': \\'Location Manager\\', \\'name\\': \\'John A. Johnston\\', \\'profile_path\\': None}, {\\'credit_id\\': \\'59ac0ff2c3a3682c4802a196\\', \\'department\\': \\'Crew\\', \\'gender\\': 0, \\'id\\': 1844322, \\'job\\': \\'Production Controller\\', \\'name\\': \\'Gail Marks\\', \\'profile_path\\': None}]'"
      ]
     },
     "execution_count": 81,
     "metadata": {},
     "output_type": "execute_result"
    }
   ],
   "source": [
    "data.loc[0]['crew']"
   ]
  },
  {
   "cell_type": "markdown",
   "id": "97bedcf1",
   "metadata": {},
   "source": [
    "This columns gives us all the details on the **crew** of the movies. We will not use this column."
   ]
  },
  {
   "cell_type": "markdown",
   "id": "ad362970",
   "metadata": {},
   "source": [
    "## Data Preprocessing\n",
    "\n",
    "In this section, we will deal with the **missing values** of columns which we require in our **model** and we will also **remove** all the **unwanted columns**.\n",
    "\n",
    "Columns to remove : **crew, cast , keywords, title, tagline, status, spoken_languages, runtime, release_date, production_countries, production_companies, poster_path, overview, original_title, original_language, imdb_id, homepage, genres, belongs_to_collection**. \n",
    "\n",
    "### Dealing With Null Values\n",
    "\n",
    "### budget\n",
    "\n",
    "First we will deal with the **NULL VALUES** of **budget** column. For this, we will be using **Web Scraping**. We will scrape the **budget** from **wikipedia** and **imdb**."
   ]
  },
  {
   "cell_type": "markdown",
   "id": "7ddf6da5",
   "metadata": {},
   "source": [
    "We will first try to find out the **budget** of movies using **wikipedia**. For this we will use the **imdb_id** column.\n",
    "\n",
    "First we will use the **imdb_id** to get to the movie's **imdb webpage**. Then using **Beautiful soup** library, we will extract the **title** of the **html** page. Then we will use it to get to the **wikipedia** page of the movie after which we will again use **Beautiful Soup** library to extract the budget."
   ]
  },
  {
   "cell_type": "code",
   "execution_count": 90,
   "id": "661e0617",
   "metadata": {
    "scrolled": true
   },
   "outputs": [],
   "source": [
    "for i in data.index:\n",
    "      if data.loc[i]['budget'] == 0:\n",
    "        id = data.loc[i]['imdb_id']\n",
    "        url_1 = f\"https://www.imdb.com/title/{id}/\"\n",
    "        html_1 = requests.get(url_1)\n",
    "        soup_1 = BeautifulSoup(html_1.content , 'html.parser')\n",
    "        title = soup_1.find_all('title')\n",
    "        title = title[0].get_text()\n",
    "        title = title[:-7]\n",
    "        split = title.split(\" \")\n",
    "        word = \"\"\n",
    "        for j in range(len(split)):\n",
    "            if(split[j][0] == '('):\n",
    "                word = word + split[j][:-1] + \"_\" + \"film\" +\")\"\n",
    "            else:    \n",
    "                word = word + split[j] + \"_\"\n",
    "        title = word\n",
    "        url_2 = f\"https://en.wikipedia.org/wiki/{title}\"        \n",
    "        html_2 = requests.get(url_2)\n",
    "        soup_2 = BeautifulSoup(html_2.content , 'html.parser')\n",
    "        table = soup_2.find_all(\"table\")\n",
    "        try:\n",
    "            row = table[0].findAll('tr')\n",
    "            if(len(row) < 2):\n",
    "                  row = table[1].findAll('tr')\n",
    "            budget = row[-2].get_text()\n",
    "            if(budget[:6] != \"Budget\"): \n",
    "                continue\n",
    "            else:\n",
    "                end = 0\n",
    "                for j in range(7,len(budget)):\n",
    "                    if j < len(budget)-1 and budget[j+1] == '[':\n",
    "                        end = j\n",
    "                        break;\n",
    "                    if j == len(budget)-1:\n",
    "                        end = j\n",
    "                budget = budget[7:end+1]\n",
    "                split = budget.split(\" \")\n",
    "\n",
    "                if(len(split) > 1 and split[1] == 'million'):\n",
    "                    budget = split[0]\n",
    "                    budget = budget + \"000000\"\n",
    "                    budget = int(budget)\n",
    "                    data.at[i,'budget'] = budget \n",
    "                else:\n",
    "                    budget = budget.translate(str.maketrans('', '', string.punctuation))\n",
    "                    budget = int(budget)\n",
    "                    data.at[i,'budget'] = budget \n",
    "        except:\n",
    "            continue"
   ]
  },
  {
   "cell_type": "markdown",
   "id": "0f8fad33",
   "metadata": {},
   "source": [
    "Now for some movies, the **url** of the **wikipedia** page of a movie does not have the title similar to the one we found in the **imdb webpage**. \n",
    "\n",
    "Instead, a pattern can be observed in the **url** of the **wikipedia** pages for some movies.\n",
    "\n",
    "**Movies** which **belong to a collection** do not have **{film}** at the end of the **title** of the movie in the **url** of its **wikipedia** page whereas **movies** which do not **belong to a collection** do have **{film}** at the end of the **title** of the movie in the **url** of its **wikipedia** page.\n",
    "\n",
    "We will use this to extract **Budget** of the left out movies.\n",
    "\n",
    "For **title** , we will use the **title** column of the dataset."
   ]
  },
  {
   "cell_type": "code",
   "execution_count": 91,
   "id": "bf8190d0",
   "metadata": {
    "scrolled": true
   },
   "outputs": [],
   "source": [
    "for i in data.index:\n",
    "      if(data.loc[i]['budget'] == 0):\n",
    "            name = data.loc[i]['title']\n",
    "            name = name.split(\" \")\n",
    "            name_html = \"\"\n",
    "            if str(data.loc[i]['belongs_to_collection']) == 'nan' :\n",
    "                for j in range(len(name)):\n",
    "                    name_html = name_html + name[j] + \"_\"\n",
    "                url = f\"https://en.wikipedia.org/wiki/{name_html}(film)\"\n",
    "                html = requests.get(url)\n",
    "                soup = BeautifulSoup(html.content , 'html.parser')\n",
    "                table = soup.find_all('table')\n",
    "                try:\n",
    "                    row = table[0].findAll('tr')\n",
    "                    if(len(row) < 2):\n",
    "                          row = table[1].findAll('tr')\n",
    "                    budget = row[-2].get_text()\n",
    "                    if(budget[:6] != \"Budget\"): \n",
    "                          continue\n",
    "                    else:\n",
    "                        end = 0\n",
    "                        for j in range(7,len(budget)):\n",
    "                            if j < len(budget)-1 and budget[j+1] == '[':\n",
    "                                end = j\n",
    "                                break;\n",
    "                            if j == len(budget)-1:\n",
    "                                end = j\n",
    "                        budget = budget[7:end+1]\n",
    "                        split = budget.split(\" \")\n",
    "                        if(len(split) > 1 and split[1] == 'million'):\n",
    "                            budget = split[0]\n",
    "                            budget = budget + \"000000\"\n",
    "                            budget = int(budget)\n",
    "                            data.at[i,'budget'] = budget\n",
    "                        else:\n",
    "                            budget = budget.translate(str.maketrans('', '', string.punctuation))\n",
    "                            budget = int(budget)\n",
    "                            data.at[i,'budget'] = budget\n",
    "                except:\n",
    "                    continue\n",
    "\n",
    "            else:\n",
    "                for j in range(len(name)):\n",
    "                    name_html = name_html + name[j] + \"_\"\n",
    "                name_html = name_html[:-1] \n",
    "                url = f\"https://en.wikipedia.org/wiki/{name_html}\"\n",
    "                html = requests.get(url)\n",
    "                soup = BeautifulSoup(html.content , 'html.parser')\n",
    "                table = soup.find_all('table')\n",
    "                try:\n",
    "                    row = table[0].findAll('tr')\n",
    "                    if(len(row) < 2):\n",
    "                        row = table[1].findAll('tr')\n",
    "                    budget = row[-2].get_text()\n",
    "                    if(budget[:6] != \"Budget\"):\n",
    "                        continue\n",
    "                    else:\n",
    "                        end = 0\n",
    "                        for h in range(7,len(budget)):\n",
    "                            if h < len(budget)-1 and budget[h+1] == '[':\n",
    "                                end = h\n",
    "                                break;\n",
    "                            if h == len(budget)-1:\n",
    "                                end = h\n",
    "                        budget = budget[7:end+1]\n",
    "\n",
    "                        split = budget.split(\" \")        \n",
    "                        if(len(split) > 1 and split[1] == 'million'):\n",
    "                            budget = split[0]\n",
    "                            budget = budget + \"000000\"\n",
    "                            budget = int(budget)\n",
    "                            data.at[i,'budget'] = budget\n",
    "                        else:\n",
    "                            budget = budget.translate(str.maketrans('', '', string.punctuation))\n",
    "                            budget = int(budget)\n",
    "                            data.at[i,'budget'] = budget\n",
    "                except:\n",
    "                      continue"
   ]
  },
  {
   "cell_type": "markdown",
   "id": "53be75cd",
   "metadata": {},
   "source": [
    "For the remaining **movies** we will use the **imdb** website to get the **budget**. For this we will use the **imdb_id** column to get the **url** for each movie. Then using **Beautiful Soup** , we will find the **budget**."
   ]
  },
  {
   "cell_type": "code",
   "execution_count": 92,
   "id": "fde71fb2",
   "metadata": {},
   "outputs": [],
   "source": [
    "for i in data.index:\n",
    "    if data.loc[i]['budget'] == 0:\n",
    "        id = data.loc[i]['imdb_id']\n",
    "        url = f\"https://www.imdb.com/title/{id}/\"\n",
    "        html = requests.get(url)\n",
    "        soup = BeautifulSoup(html.content , 'html.parser')\n",
    "        div = soup.find_all('div')\n",
    "        try:\n",
    "            span = div[1].findAll('span')\n",
    "            index = 0\n",
    "            for j in range(len(span)):\n",
    "                if span[j].get_text().find('Budget')!= -1:\n",
    "                    index = j\n",
    "                    break;\n",
    "            if index == 0:\n",
    "                continue\n",
    "            else:\n",
    "                budget = span[index+1].get_text()[1:-12]\n",
    "                budget = budget.translate(str.maketrans('', '', string.punctuation))\n",
    "                budget = int(budget)\n",
    "                data.at[i,'budget'] = budget\n",
    "        except:\n",
    "            continue"
   ]
  },
  {
   "cell_type": "code",
   "execution_count": 93,
   "id": "b41a6e3a",
   "metadata": {},
   "outputs": [
    {
     "data": {
      "text/plain": [
       "542"
      ]
     },
     "execution_count": 93,
     "metadata": {},
     "output_type": "execute_result"
    }
   ],
   "source": [
    "len(data[data['budget']==0])"
   ]
  },
  {
   "cell_type": "markdown",
   "id": "47709644",
   "metadata": {},
   "source": [
    "We can see that out of **812** **NULL VALUES** in the **budget** column, we found the **budget** of **270** movies. \n",
    "\n",
    "For the remaining movies, we will replace the null values with the **mean** value of the **budget** column."
   ]
  },
  {
   "cell_type": "code",
   "execution_count": 94,
   "id": "27d0bec6",
   "metadata": {},
   "outputs": [],
   "source": [
    "data['budget'].fillna(data['budget'].mean(), inplace = True)"
   ]
  },
  {
   "cell_type": "markdown",
   "id": "d7b2e649",
   "metadata": {},
   "source": [
    "### runtime"
   ]
  },
  {
   "cell_type": "markdown",
   "id": "b607c970",
   "metadata": {},
   "source": [
    "**NULL VALUES** in **runtime** column were represented by **0**. We have already accomodated these rows in the **1st group** of the newly made **runtime_group** column. So we have already dealt with the **NULL VALUES** of this column."
   ]
  },
  {
   "cell_type": "markdown",
   "id": "ef6b7a97",
   "metadata": {},
   "source": [
    "For the remaining columns with **NULL VALUES**, we have already extracted important information from them and have made separate column for them. Hence we will not deal with their **NULL VALUES** and will remove these columns from our dataset."
   ]
  },
  {
   "cell_type": "markdown",
   "id": "f5df72cf",
   "metadata": {},
   "source": [
    "### Removing unwanted columns."
   ]
  },
  {
   "cell_type": "code",
   "execution_count": 97,
   "id": "29d56de1",
   "metadata": {},
   "outputs": [],
   "source": [
    "unwanted_columns = ['id','crew', 'cast' , 'Keywords', 'title', 'tagline', 'status', 'spoken_languages', 'runtime', 'release_date', 'production_countries', 'production_companies', 'poster_path', 'overview', 'original_title', 'original_language', 'imdb_id', 'homepage', 'genres', 'belongs_to_collection']\n",
    "data.drop(unwanted_columns , axis = 1 , inplace = True)"
   ]
  },
  {
   "cell_type": "markdown",
   "id": "7223183c",
   "metadata": {},
   "source": [
    "Now we will move on to create a regression model to train on our dataset.\n",
    "\n",
    "Before that , first we must separate the dataset into **training** and **test** dataset."
   ]
  },
  {
   "cell_type": "markdown",
   "id": "d17d7afb",
   "metadata": {},
   "source": [
    "## Splitting the dataset into training and test set."
   ]
  },
  {
   "cell_type": "code",
   "execution_count": 151,
   "id": "6933b75b",
   "metadata": {},
   "outputs": [],
   "source": [
    "train , test = train_test_split(data , test_size = 0.2)"
   ]
  },
  {
   "cell_type": "markdown",
   "id": "9081b1c0",
   "metadata": {},
   "source": [
    "## Splitting the training and test set into features and label."
   ]
  },
  {
   "cell_type": "code",
   "execution_count": 152,
   "id": "1413066b",
   "metadata": {},
   "outputs": [],
   "source": [
    "# This is the training feature dataset.\n",
    "X_train = train.drop('revenue' , axis = 1)\n",
    "# This is the training label set.\n",
    "Y_train = train['revenue']\n",
    "# This is the test feature dataset.\n",
    "X_test = test.drop('revenue' , axis = 1)\n",
    "# This is the test label set.\n",
    "Y_test = test['revenue']"
   ]
  },
  {
   "cell_type": "markdown",
   "id": "0b2f06c8",
   "metadata": {},
   "source": [
    "## Scaling the feature dataset.\n",
    "\n",
    "In this section, we will **scale** our feature datasets (training and test) using the **StandardScaler** provided by the **sklearn** library."
   ]
  },
  {
   "cell_type": "code",
   "execution_count": 153,
   "id": "f3353918",
   "metadata": {},
   "outputs": [],
   "source": [
    "scaler = StandardScaler()\n",
    "X_train = scaler.fit_transform(X_train)\n",
    "# We have to use the same scaler to transform the test set as this will use the same parameter calculated for the training set\n",
    "# to tranform the test set.\n",
    "X_test = scaler.transform(X_test)"
   ]
  },
  {
   "cell_type": "markdown",
   "id": "64984ef6",
   "metadata": {},
   "source": [
    "## Training the model.\n",
    "\n",
    "We will be using The **Random Forest Regressor** for this project. We will first use the **default Hyperparameters** and then later we will **tune** the **hyperparameters**."
   ]
  },
  {
   "cell_type": "code",
   "execution_count": 154,
   "id": "f2326806",
   "metadata": {},
   "outputs": [
    {
     "data": {
      "text/plain": [
       "RandomForestRegressor(n_jobs=-1)"
      ]
     },
     "execution_count": 154,
     "metadata": {},
     "output_type": "execute_result"
    }
   ],
   "source": [
    "regressor = RandomForestRegressor(n_jobs = -1)\n",
    "regressor.fit(X_train,Y_train)"
   ]
  },
  {
   "cell_type": "markdown",
   "id": "a734c6ea",
   "metadata": {},
   "source": [
    "## Using the trained model on our test set."
   ]
  },
  {
   "cell_type": "code",
   "execution_count": 155,
   "id": "ffde68a9",
   "metadata": {},
   "outputs": [],
   "source": [
    "Y_pred = regressor.predict(X_test)"
   ]
  },
  {
   "cell_type": "markdown",
   "id": "910bd62b",
   "metadata": {},
   "source": [
    "## Evaluating the results.\n",
    "\n",
    "Here we will use the **Root-Mean-Squared-Logarithmic-Error(RMSLE)** to **evaluate the performance** of our model.\n",
    "\n",
    "We will use the **mean_squared_log_error** metric provided by **sklearn** and then take the **square root** of this value to get the \n",
    "**Root-Mean-Squared-Logarithmic-Error**"
   ]
  },
  {
   "cell_type": "code",
   "execution_count": 156,
   "id": "321e1d24",
   "metadata": {
    "scrolled": true
   },
   "outputs": [
    {
     "name": "stdout",
     "output_type": "stream",
     "text": [
      "The Root-Mean-Squared-Logarithmic-Error of the untuned model is : 2.755745690257132\n"
     ]
    }
   ],
   "source": [
    "msle = mean_squared_log_error(Y_test , Y_pred)\n",
    "rmse = np.sqrt(msle)\n",
    "\n",
    "print(\"The Root-Mean-Squared-Logarithmic-Error of the untuned model is : \" + str(rmse))"
   ]
  },
  {
   "cell_type": "markdown",
   "id": "96cdfad8",
   "metadata": {},
   "source": [
    "The **RMSLE** value for the untuned model is **2.755745690257132**."
   ]
  },
  {
   "cell_type": "code",
   "execution_count": 182,
   "id": "d07f4c47",
   "metadata": {},
   "outputs": [
    {
     "data": {
      "text/plain": [
       "(array([ 0,  1,  2,  3,  4,  5,  6,  7,  8,  9, 10, 11, 12, 13, 14, 15, 16,\n",
       "        17, 18, 19, 20, 21, 22, 23, 24, 25, 26, 27, 28, 29, 30, 31, 32, 33,\n",
       "        34, 35, 36, 37, 38, 39, 40, 41, 42, 43, 44, 45, 46, 47, 48, 49, 50,\n",
       "        51, 52, 53, 54, 55, 56, 57, 58, 59, 60, 61, 62, 63, 64, 65, 66, 67,\n",
       "        68, 69, 70, 71, 72, 73, 74, 75, 76, 77, 78, 79, 80, 81, 82, 83, 84,\n",
       "        85, 86, 87, 88, 89, 90, 91]),\n",
       " [Text(0, 0, 'budget'),\n",
       "  Text(1, 0, 'popularity'),\n",
       "  Text(2, 0, 'collection'),\n",
       "  Text(3, 0, 'Comedy'),\n",
       "  Text(4, 0, 'Drama'),\n",
       "  Text(5, 0, 'Family'),\n",
       "  Text(6, 0, 'Romance'),\n",
       "  Text(7, 0, 'Thriller'),\n",
       "  Text(8, 0, 'Action'),\n",
       "  Text(9, 0, 'Animation'),\n",
       "  Text(10, 0, 'Adventure'),\n",
       "  Text(11, 0, 'Horror'),\n",
       "  Text(12, 0, 'Documentary'),\n",
       "  Text(13, 0, 'Music'),\n",
       "  Text(14, 0, 'Crime'),\n",
       "  Text(15, 0, 'Science Fiction'),\n",
       "  Text(16, 0, 'Mystery'),\n",
       "  Text(17, 0, 'Foreign'),\n",
       "  Text(18, 0, 'Fantasy'),\n",
       "  Text(19, 0, 'War'),\n",
       "  Text(20, 0, 'Western'),\n",
       "  Text(21, 0, 'History'),\n",
       "  Text(22, 0, 'TV Movie'),\n",
       "  Text(23, 0, 'is_homepage'),\n",
       "  Text(24, 0, 'is_original_language_english'),\n",
       "  Text(25, 0, 'number_of_production_companies'),\n",
       "  Text(26, 0, 'number_of_production_country'),\n",
       "  Text(27, 0, 'is_production_country_US'),\n",
       "  Text(28, 0, 'year'),\n",
       "  Text(29, 0, 'month'),\n",
       "  Text(30, 0, 'day'),\n",
       "  Text(31, 0, 'day_of_the_week'),\n",
       "  Text(32, 0, 'runtime_group'),\n",
       "  Text(33, 0, 'English'),\n",
       "  Text(34, 0, 'हिन्दी'),\n",
       "  Text(35, 0, '한국어/조선말'),\n",
       "  Text(36, 0, 'العربية'),\n",
       "  Text(37, 0, 'Pусский'),\n",
       "  Text(38, 0, 'svenska'),\n",
       "  Text(39, 0, 'Srpski'),\n",
       "  Text(40, 0, 'Deutsch'),\n",
       "  Text(41, 0, 'Français'),\n",
       "  Text(42, 0, 'Italiano'),\n",
       "  Text(43, 0, '日本語'),\n",
       "  Text(44, 0, 'עִבְרִית'),\n",
       "  Text(45, 0, 'Português'),\n",
       "  Text(46, 0, 'Latin'),\n",
       "  Text(47, 0, '普通话'),\n",
       "  Text(48, 0, 'Español'),\n",
       "  Text(49, 0, 'Nederlands'),\n",
       "  Text(50, 0, '广州话 / 廣州話'),\n",
       "  Text(51, 0, ''),\n",
       "  Text(52, 0, 'Český'),\n",
       "  Text(53, 0, 'தமிழ்'),\n",
       "  Text(54, 0, 'తెలుగు'),\n",
       "  Text(55, 0, 'Polski'),\n",
       "  Text(56, 0, 'Türkçe'),\n",
       "  Text(57, 0, 'Magyar'),\n",
       "  Text(58, 0, 'ελληνικά'),\n",
       "  Text(59, 0, 'Gaeilge'),\n",
       "  Text(60, 0, 'فارسی'),\n",
       "  Text(61, 0, 'ภาษาไทย'),\n",
       "  Text(62, 0, 'Català'),\n",
       "  Text(63, 0, 'Dansk'),\n",
       "  Text(64, 0, 'বাংলা'),\n",
       "  Text(65, 0, 'қазақ'),\n",
       "  Text(66, 0, 'Afrikaans'),\n",
       "  Text(67, 0, 'ਪੰਜਾਬੀ'),\n",
       "  Text(68, 0, 'български език'),\n",
       "  Text(69, 0, 'Kiswahili'),\n",
       "  Text(70, 0, 'Norsk'),\n",
       "  Text(71, 0, 'No Language'),\n",
       "  Text(72, 0, 'suomi'),\n",
       "  Text(73, 0, 'اردو'),\n",
       "  Text(74, 0, 'shqip'),\n",
       "  Text(75, 0, 'Română'),\n",
       "  Text(76, 0, 'Bahasa indonesia'),\n",
       "  Text(77, 0, 'Tiếng Việt'),\n",
       "  Text(78, 0, 'Slovenčina'),\n",
       "  Text(79, 0, 'Український'),\n",
       "  Text(80, 0, 'Esperanto'),\n",
       "  Text(81, 0, 'euskera'),\n",
       "  Text(82, 0, 'isiZulu'),\n",
       "  Text(83, 0, 'Somali'),\n",
       "  Text(84, 0, 'Íslenska'),\n",
       "  Text(85, 0, 'Wolof'),\n",
       "  Text(86, 0, 'Eesti'),\n",
       "  Text(87, 0, 'پښتو'),\n",
       "  Text(88, 0, 'Hrvatski'),\n",
       "  Text(89, 0, 'numer_of_spoken_languages'),\n",
       "  Text(90, 0, 'Released'),\n",
       "  Text(91, 0, 'Rumoured')])"
      ]
     },
     "execution_count": 182,
     "metadata": {},
     "output_type": "execute_result"
    },
    {
     "data": {
      "image/png": "[encoded data removed]",
      "text/plain": [
       "<Figure size 1296x720 with 1 Axes>"
      ]
     },
     "metadata": {
      "needs_background": "light"
     },
     "output_type": "display_data"
    }
   ],
   "source": [
    "plt.figure(figsize = (18,10))\n",
    "plt.bar(range(len(regressor.feature_importances_)), regressor.feature_importances_ , tick_label = train.drop('revenue', axis = 1).columns)\n",
    "plt.xticks(rotation = 90)"
   ]
  },
  {
   "cell_type": "markdown",
   "id": "c2495282",
   "metadata": {},
   "source": [
    "## Tuning the model using GridSearchCV\n",
    "\n",
    "Here, we will define a set of **combinations of hyperparameters** to be used in the **Random Forest Regressor**. We will use the **RandomizeSearchCV** and **GridSearchCV** of the **sklearn** library to **train** the **regression** model on the **combinations** of the **hyperparameters**.\n",
    "\n",
    "We will first use **RandomizeSeachCV** which will **narrow down** the possible set of combinations of **hyperparameters**. Then we will use the **GridSeachCV** to find the **best parameters** for our model."
   ]
  },
  {
   "cell_type": "markdown",
   "id": "0daddaf7",
   "metadata": {},
   "source": [
    "### RandomizeSearchCV"
   ]
  },
  {
   "cell_type": "code",
   "execution_count": 158,
   "id": "cbba595f",
   "metadata": {},
   "outputs": [],
   "source": [
    "# Number of Trees in the Random Forest Regressor\n",
    "n_estimators = [int(x) for x in np.linspace(10,300,30)]\n",
    "# Number of features to consider while splitting\n",
    "max_features = ['auto' , 'sqrt' , 'log2']\n",
    "# Maximum Depth of the tree\n",
    "max_depth = [int(x) for x in np.linspace(20,200,20)]\n",
    "# The minimum number of samples required to split an internal node.\n",
    "min_samples_split = [int(x) for x in np.linspace(10,500,50)]\n",
    "# The minimum number of samples required to be at a leaf node\n",
    "min_samples_leaf = [int(x) for x in np.linspace(50,100,10)]\n",
    "# True then bootstrap samples are used(smaller sample taken from the entire dataset) , False then the entire dataset is used.\n",
    "bootstrap = ['True' , 'False']\n",
    "\n",
    "param_random = {\n",
    "    'n_estimators' : n_estimators,\n",
    "    'max_features' : max_features,\n",
    "    'max_depth'    : max_depth,\n",
    "    'min_samples_split' : min_samples_split,\n",
    "    'min_samples_leaf' : min_samples_leaf,\n",
    "    'bootstrap'    : bootstrap\n",
    "}"
   ]
  },
  {
   "cell_type": "markdown",
   "id": "59e3569d",
   "metadata": {},
   "source": [
    "We will have to create another **regressor object** of the **RandomForestRegressor**."
   ]
  },
  {
   "cell_type": "markdown",
   "id": "6c7c6e6b",
   "metadata": {},
   "source": [
    "For scoring the different combinations of parameters in **RandomizedSeachCV** , we will use the **mean_squared_log_error**. We will then take the **square root** of the **best score** to evaluate the performance."
   ]
  },
  {
   "cell_type": "code",
   "execution_count": 159,
   "id": "45d90c1c",
   "metadata": {},
   "outputs": [],
   "source": [
    "regressor_random = RandomForestRegressor()\n",
    "\n",
    "regressor_random_grid = RandomizedSearchCV(estimator = regressor_random , \n",
    "                                           param_distributions = param_random , \n",
    "                                           n_iter = 30 ,\n",
    "                                           cv = 10, \n",
    "                                           scoring = 'neg_mean_squared_log_error',\n",
    "                                           verbose = 2 ,\n",
    "                                           n_jobs = -1\n",
    "                                          )"
   ]
  },
  {
   "cell_type": "code",
   "execution_count": 160,
   "id": "e3ecc95e",
   "metadata": {
    "scrolled": true
   },
   "outputs": [
    {
     "name": "stdout",
     "output_type": "stream",
     "text": [
      "Fitting 10 folds for each of 30 candidates, totalling 300 fits\n"
     ]
    },
    {
     "data": {
      "text/plain": [
       "RandomizedSearchCV(cv=10, estimator=RandomForestRegressor(), n_iter=30,\n",
       "                   n_jobs=-1,\n",
       "                   param_distributions={'bootstrap': ['True', 'False'],\n",
       "                                        'max_depth': [20, 29, 38, 48, 57, 67,\n",
       "                                                      76, 86, 95, 105, 114, 124,\n",
       "                                                      133, 143, 152, 162, 171,\n",
       "                                                      181, 190, 200],\n",
       "                                        'max_features': ['auto', 'sqrt',\n",
       "                                                         'log2'],\n",
       "                                        'min_samples_leaf': [50, 55, 61, 66, 72,\n",
       "                                                             77, 83, 88, 94,\n",
       "                                                             100],\n",
       "                                        'min_samples_split': [10, 20, 30, 40,\n",
       "                                                              50, 60, 70, 80,\n",
       "                                                              90, 100, 110, 120,\n",
       "                                                              130, 140, 150,\n",
       "                                                              160, 170, 180,\n",
       "                                                              190, 200, 210,\n",
       "                                                              220, 230, 240,\n",
       "                                                              250, 260, 270,\n",
       "                                                              280, 290, 300, ...],\n",
       "                                        'n_estimators': [10, 20, 30, 40, 50, 60,\n",
       "                                                         70, 80, 90, 100, 110,\n",
       "                                                         120, 130, 140, 150,\n",
       "                                                         160, 170, 180, 190,\n",
       "                                                         200, 210, 220, 230,\n",
       "                                                         240, 250, 260, 270,\n",
       "                                                         280, 290, 300]},\n",
       "                   scoring='neg_mean_squared_log_error', verbose=2)"
      ]
     },
     "execution_count": 160,
     "metadata": {},
     "output_type": "execute_result"
    }
   ],
   "source": [
    "regressor_random_grid.fit(X_train, Y_train)"
   ]
  },
  {
   "cell_type": "markdown",
   "id": "93eec92e",
   "metadata": {},
   "source": [
    "-----**Best Parameters**-----"
   ]
  },
  {
   "cell_type": "code",
   "execution_count": 161,
   "id": "85b922ab",
   "metadata": {
    "scrolled": true
   },
   "outputs": [
    {
     "name": "stdout",
     "output_type": "stream",
     "text": [
      "Best Paramters : {'n_estimators': 250, 'min_samples_split': 170, 'min_samples_leaf': 66, 'max_features': 'auto', 'max_depth': 162, 'bootstrap': 'True'}\n"
     ]
    }
   ],
   "source": [
    "print('Best Paramters : ' + str(regressor_random_grid.best_params_))"
   ]
  },
  {
   "cell_type": "markdown",
   "id": "bc204614",
   "metadata": {},
   "source": [
    "-----**Best Score**-----"
   ]
  },
  {
   "cell_type": "code",
   "execution_count": 162,
   "id": "55143a9b",
   "metadata": {
    "scrolled": false
   },
   "outputs": [
    {
     "name": "stdout",
     "output_type": "stream",
     "text": [
      "Best Score : 2.684368277481956\n"
     ]
    }
   ],
   "source": [
    "print('Best Score : ' + str(np.sqrt(-regressor_random_grid.best_score_)))"
   ]
  },
  {
   "cell_type": "markdown",
   "id": "3e5fa4d6",
   "metadata": {},
   "source": [
    "-----**Best Estimator**-----"
   ]
  },
  {
   "cell_type": "code",
   "execution_count": 163,
   "id": "3fcc3d68",
   "metadata": {},
   "outputs": [
    {
     "name": "stdout",
     "output_type": "stream",
     "text": [
      "Best Estimator : RandomForestRegressor(bootstrap='True', max_depth=162, min_samples_leaf=66,\n",
      "                      min_samples_split=170, n_estimators=250)\n"
     ]
    }
   ],
   "source": [
    "print('Best Estimator : ' + str(regressor_random_grid.best_estimator_))"
   ]
  },
  {
   "cell_type": "markdown",
   "id": "808b0d97",
   "metadata": {},
   "source": [
    "## Using the Best Estimator on the test set and Evaluating its performance"
   ]
  },
  {
   "cell_type": "code",
   "execution_count": 164,
   "id": "0ebfe4e4",
   "metadata": {},
   "outputs": [
    {
     "name": "stdout",
     "output_type": "stream",
     "text": [
      "The Root-Mean-Squared-Logarithmic-Error using the best estimator found using Randomized Search CV is : 2.857582755997428\n"
     ]
    }
   ],
   "source": [
    "Y_pred_random = regressor_random_grid.best_estimator_.predict(X_test)\n",
    "msle = mean_squared_log_error(Y_test , Y_pred_random)\n",
    "rmse = np.sqrt(msle)\n",
    "\n",
    "print(\"The Root-Mean-Squared-Logarithmic-Error using the best estimator found using Randomized Search CV is : \" + str(rmse))"
   ]
  },
  {
   "cell_type": "markdown",
   "id": "f3ea4b34",
   "metadata": {},
   "source": [
    "### GridSearchCV"
   ]
  },
  {
   "cell_type": "markdown",
   "id": "f4af8afb",
   "metadata": {},
   "source": [
    "Here we will use parameters which are close to the **default parameters** as it gave us **better result** on the **test set** than the **best estimator** found using the **RandomizedSearchCV**."
   ]
  },
  {
   "cell_type": "code",
   "execution_count": 171,
   "id": "523c980f",
   "metadata": {},
   "outputs": [],
   "source": [
    "# Number of Trees in the Random Forest Regressor\n",
    "n_estimators = [int(x) for x in np.linspace(100,200,5)]\n",
    "# Number of features to consider while splitting\n",
    "max_features = ['auto']\n",
    "# Maximum Depth of the tree. We will keep the default value\n",
    "# The minimum number of samples required to split an internal node.\n",
    "min_samples_split = [int(x) for x in np.linspace(2,20,5)]\n",
    "# The minimum number of samples required to be at a leaf node\n",
    "min_samples_leaf = [int(x) for x in np.linspace(1,10,5)]\n",
    "# True then bootstrap samples are used(smaller sample taken from the entire dataset) , False then the entire dataset is used.\n",
    "bootstrap = ['True']\n",
    "\n",
    "param_grid = {\n",
    "    'n_estimators' : n_estimators,\n",
    "    'max_features' : max_features,\n",
    "    'min_samples_split' : min_samples_split,\n",
    "    'min_samples_leaf' : min_samples_leaf,\n",
    "    'bootstrap'    : bootstrap\n",
    "}"
   ]
  },
  {
   "cell_type": "code",
   "execution_count": 172,
   "id": "a9cef8be",
   "metadata": {},
   "outputs": [],
   "source": [
    "regressor_grid = RandomForestRegressor()\n",
    "\n",
    "regressor_grid_search = GridSearchCV(estimator = regressor_grid , \n",
    "                                     param_grid = param_grid , \n",
    "                                     cv = 3 , \n",
    "                                     scoring = 'neg_mean_squared_log_error',\n",
    "                                     verbose = 2 ,\n",
    "                                     n_jobs = -1\n",
    "                                    )"
   ]
  },
  {
   "cell_type": "code",
   "execution_count": 173,
   "id": "5668aab2",
   "metadata": {
    "scrolled": true
   },
   "outputs": [
    {
     "name": "stdout",
     "output_type": "stream",
     "text": [
      "Fitting 3 folds for each of 125 candidates, totalling 375 fits\n"
     ]
    },
    {
     "data": {
      "text/plain": [
       "GridSearchCV(cv=3, estimator=RandomForestRegressor(), n_jobs=-1,\n",
       "             param_grid={'bootstrap': ['True'], 'max_features': ['auto'],\n",
       "                         'min_samples_leaf': [1, 3, 5, 7, 10],\n",
       "                         'min_samples_split': [2, 6, 11, 15, 20],\n",
       "                         'n_estimators': [100, 125, 150, 175, 200]},\n",
       "             scoring='neg_mean_squared_log_error', verbose=2)"
      ]
     },
     "execution_count": 173,
     "metadata": {},
     "output_type": "execute_result"
    }
   ],
   "source": [
    "regressor_grid_search.fit(X_train , Y_train)"
   ]
  },
  {
   "cell_type": "markdown",
   "id": "c3b37ec8",
   "metadata": {},
   "source": [
    "-----**Best Parameters**-----"
   ]
  },
  {
   "cell_type": "code",
   "execution_count": 174,
   "id": "19cc88e7",
   "metadata": {
    "scrolled": true
   },
   "outputs": [
    {
     "name": "stdout",
     "output_type": "stream",
     "text": [
      "Best Paramters : {'bootstrap': 'True', 'max_features': 'auto', 'min_samples_leaf': 3, 'min_samples_split': 6, 'n_estimators': 100}\n"
     ]
    }
   ],
   "source": [
    "print('Best Paramters : ' + str(regressor_grid_search.best_params_))"
   ]
  },
  {
   "cell_type": "markdown",
   "id": "e8c7d52d",
   "metadata": {},
   "source": [
    "-----**Best Score**-----"
   ]
  },
  {
   "cell_type": "code",
   "execution_count": 178,
   "id": "d23c11f5",
   "metadata": {
    "scrolled": true
   },
   "outputs": [
    {
     "name": "stdout",
     "output_type": "stream",
     "text": [
      "Best Score : 2.520803899490714\n"
     ]
    }
   ],
   "source": [
    "print('Best Score : ' + str(np.sqrt(-regressor_grid_search.best_score_)))"
   ]
  },
  {
   "cell_type": "markdown",
   "id": "f87b7d98",
   "metadata": {},
   "source": [
    "-----**Best Estimator**-----"
   ]
  },
  {
   "cell_type": "code",
   "execution_count": 176,
   "id": "385d8256",
   "metadata": {},
   "outputs": [
    {
     "name": "stdout",
     "output_type": "stream",
     "text": [
      "Best Estimator : RandomForestRegressor(bootstrap='True', min_samples_leaf=3, min_samples_split=6)\n"
     ]
    }
   ],
   "source": [
    "print('Best Estimator : ' + str(regressor_grid_search.best_estimator_))"
   ]
  },
  {
   "cell_type": "markdown",
   "id": "0f0037e9",
   "metadata": {},
   "source": [
    "## Using the Best Estimator on the test set and Evaluating its performance"
   ]
  },
  {
   "cell_type": "code",
   "execution_count": 179,
   "id": "93e775e1",
   "metadata": {},
   "outputs": [
    {
     "name": "stdout",
     "output_type": "stream",
     "text": [
      "The Root-Mean-Squared-Logarithmic-Error using the best estimator found using Grid Search CV is : 2.757090275710473\n"
     ]
    }
   ],
   "source": [
    "Y_pred_grid = regressor_grid_search.best_estimator_.predict(X_test)\n",
    "msle = mean_squared_log_error(Y_test , Y_pred_grid)\n",
    "rmse = np.sqrt(msle)\n",
    "\n",
    "print(\"The Root-Mean-Squared-Logarithmic-Error using the best estimator found using Grid Search CV is : \" + str(rmse))\n"
   ]
  },
  {
   "cell_type": "markdown",
   "id": "a3cba564",
   "metadata": {},
   "source": [
    "## --RESULTS--"
   ]
  },
  {
   "cell_type": "markdown",
   "id": "85ea647a",
   "metadata": {},
   "source": [
    "**RMSLE Values of the Test Set**\n",
    "\n",
    "1) *USING THE DEFAULT PARAMETERS* = **2.755745690257132**\n",
    "\n",
    "2) *USING THE BEST ESTIMATOR FOUND BY TRANDOMIZED SEARCH CV* = **2.857582755997428**\n",
    "\n",
    "3) *USING THE BEST ESTIMATOR FOUND BY GRID SEARCH CV* = **2.757090275710473**"
   ]
  },
  {
   "cell_type": "markdown",
   "id": "07c64def",
   "metadata": {},
   "source": [
    "We can see that the **parameters** obtained using **Randomized Search CV** and **Grid Search CV** gave higher value of **RMSLE** than the default parameters.\n",
    "\n",
    "Hence the best regressor model for this project is the **regressor** of **RandomForestRegressor** which uses the **default Parameters**.\n",
    "\n",
    "\n",
    "## Conclusion\n",
    "\n",
    "This concludes this project. We used the **TMDB Box Office Prediction** dataset obtained from **Kaggle.com**. We did a lot of **Exploratory Data Analysis** to extract important information from the **dataset**.\n",
    "\n",
    "To deal with the **NULL VALUES** of the **budget** column, we also did **Web Scraping** using the **BeautifulSoup** library.\n",
    "\n",
    "Finally, we used the **RandomForestRegressor** to train on our training set. We used **RandomSearchCV** and **GridSearchCV** to obtain different sets of **hyperparameters** but finally settled on the **default** **hyperparameters** as they gave the best **Root-Mean-Squared-Logarithmic-Error(RMSLE)** value.\n",
    "\n",
    "Using the **default** parameters, we obtained a **RMSLE** value of **2.755745690257132**.\n",
    "\n"
   ]
  },
  {
   "cell_type": "code",
   "execution_count": null,
   "id": "4b9c3ced",
   "metadata": {},
   "outputs": [],
   "source": []
  }
 ],
 "metadata": {
  "kernelspec": {
   "display_name": "Python 3 (ipykernel)",
   "language": "python",
   "name": "python3"
  },
  "language_info": {
   "codemirror_mode": {
    "name": "ipython",
    "version": 3
   },
   "file_extension": ".py",
   "mimetype": "text/x-python",
   "name": "python",
   "nbconvert_exporter": "python",
   "pygments_lexer": "ipython3",
   "version": "3.9.7"
  }
 },
 "nbformat": 4,
 "nbformat_minor": 5
}
